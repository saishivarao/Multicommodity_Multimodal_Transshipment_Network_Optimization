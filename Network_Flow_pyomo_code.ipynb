{
 "cells": [
  {
   "cell_type": "code",
   "execution_count": 1,
   "metadata": {},
   "outputs": [],
   "source": [
    "#Importing Basic Python Libraries\n",
    "import numpy as np\n",
    "import pandas as pd\n",
    "import scipy as ss\n",
    "import openpyxl as opxl\n",
    "from pyomo.environ import *\n",
    "import matplotlib.pyplot as plt"
   ]
  },
  {
   "cell_type": "code",
   "execution_count": 2,
   "metadata": {
    "colab": {},
    "colab_type": "code",
    "id": "52xI6wNDSzKb"
   },
   "outputs": [],
   "source": [
    "#A function to index the names\n",
    "##Inputs to the function are-(DataFrame name,Column Index number,Index Label)\n",
    "###Column Index number, eg. 0 for first column, 1 for second column and so on\n",
    "###Index Label which is to added to index the elements\n",
    " \n",
    "def index_set(dataframe,column_index,index_label):\n",
    "  x = []\n",
    "  for i in range(0,len(dataframe.iloc[:,0])):\n",
    "    x.append((dataframe.iloc[i,column_index]+str(index_label)).upper())\n",
    "    i=i+1\n",
    "  return x"
   ]
  },
  {
   "cell_type": "code",
   "execution_count": 3,
   "metadata": {
    "colab": {},
    "colab_type": "code",
    "id": "DLI_IZQ8YL9m"
   },
   "outputs": [],
   "source": [
    "#A Function to create a dataframe by combining columns from excel workbook\n",
    "##Inputs required are - (Name of DataFrame, Number of columns to combine)\n",
    "#Note:: Number of columns input can take only 2 or 3 as an input\n",
    "##Press 2 if he dictionary is of the form {Key: Value}\n",
    "##Press 3 if the dictionary is of the form {(Key1,key2): Value}\n",
    " \n",
    "def to_dictionary(dataframe, num_of_columns):\n",
    "  x = {}\n",
    "  if num_of_columns == 3:\n",
    "    for i in range(0,len(dataframe.iloc[:,0])):\n",
    "      x.update({(dataframe.iloc[i,0],dataframe.iloc[i,1]):\\\n",
    "                dataframe.iloc[i,2]})\n",
    "  elif num_of_columns ==2:\n",
    "    for i in range(0,len(dataframe.iloc[:,0])):\n",
    "      x.update({dataframe.iloc[i,0]:dataframe.iloc[i,1]})\n",
    "  else:\n",
    "    print('This function only takes input for num_of_columns as 2 or 3')\n",
    "  return x"
   ]
  },
  {
   "cell_type": "markdown",
   "metadata": {
    "colab_type": "text",
    "id": "R4xIRXw42KjQ"
   },
   "source": [
    "Importing **Data_File.xlsx** workbook containing all the data pertainent to the\n",
    "logistics network. The worksheet names along with the descripton of the data they contain are mentioned in text above each code line"
   ]
  },
  {
   "cell_type": "code",
   "execution_count": 4,
   "metadata": {
    "colab": {},
    "colab_type": "code",
    "id": "KXnH2587xin4"
   },
   "outputs": [],
   "source": [
    "#Excel workbook\n",
    "wb = opxl.load_workbook('Data_File .xlsx',data_only = True)"
   ]
  },
  {
   "cell_type": "markdown",
   "metadata": {
    "colab_type": "text",
    "id": "AAlZP4MU5Ck3"
   },
   "source": [
    "##### **Sheet Name** - ***Customers***\n",
    "**Data** - *Contains names of customers along with their location details (latitude, longitude and state identifier).*"
   ]
  },
  {
   "cell_type": "code",
   "execution_count": 5,
   "metadata": {
    "colab": {},
    "colab_type": "code",
    "id": "db8sHM5hxin7"
   },
   "outputs": [],
   "source": [
    "#Customers Information DataFrame\n",
    "##Customer Name as DataFrame Row Index\n",
    "##State Identifier, Latitude and Longitude as the column heading of DataFrame \n",
    " \n",
    "customers_info = pd.DataFrame(wb['Customers'].values)\n",
    "customers_info.columns = customers_info.iloc[0,:]\n",
    "customers_info.drop([0], inplace = True)"
   ]
  },
  {
   "cell_type": "code",
   "execution_count": 6,
   "metadata": {
    "colab": {
     "base_uri": "https://localhost:8080/",
     "height": 34
    },
    "colab_type": "code",
    "id": "Y9B9VUt7BEtx",
    "outputId": "54ac60a8-f260-4e07-cd6b-58b3e64902a9"
   },
   "outputs": [
    {
     "data": {
      "text/plain": [
       "332"
      ]
     },
     "execution_count": 6,
     "metadata": {},
     "output_type": "execute_result"
    }
   ],
   "source": [
    "# Reading Cuustomer names as a python list\n",
    "# Note:: All the customer names are indexed, by adding \".C\" in the end.\n",
    " \n",
    "customers = index_set(customers_info, 0, '.C')\n",
    "len(customers)"
   ]
  },
  {
   "cell_type": "markdown",
   "metadata": {
    "colab_type": "text",
    "id": "LM6lmcVA55iP"
   },
   "source": [
    "##### **Sheet Name** - ***EPA***\n",
    "**Data** - *Contains names, Dispatch Capacity, Road and Rail handling costs and inventory holding costs of External Processing Agents.*"
   ]
  },
  {
   "cell_type": "code",
   "execution_count": 7,
   "metadata": {
    "colab": {
     "base_uri": "https://localhost:8080/",
     "height": 34
    },
    "colab_type": "code",
    "id": "IyewMiKVxioG",
    "outputId": "bacb99e7-8aba-4add-b806-8e0abed7f4be"
   },
   "outputs": [
    {
     "data": {
      "text/plain": [
       "76"
      ]
     },
     "execution_count": 7,
     "metadata": {},
     "output_type": "execute_result"
    }
   ],
   "source": [
    "#EPA names\n",
    "##Python list containing the names\n",
    "## Note:: All the mfg. EPA names are indexed by adding \".E\" in the end.\n",
    " \n",
    "epa_info = pd.DataFrame(wb['EPA'].values)\n",
    "epa_info.columns = epa_info.iloc[0,:]\n",
    "epa_info.drop([0],axis=0, inplace=True)\n",
    "epa = epa_info.copy()\n",
    "epa = index_set(epa,0,'.E')\n",
    "len(epa)"
   ]
  },
  {
   "cell_type": "code",
   "execution_count": 8,
   "metadata": {
    "colab": {
     "base_uri": "https://localhost:8080/",
     "height": 34
    },
    "colab_type": "code",
    "id": "GIxcsc9uxipA",
    "outputId": "fa7167b1-6609-41b3-d204-4eb73bb2729e"
   },
   "outputs": [
    {
     "name": "stdout",
     "output_type": "stream",
     "text": [
      "76 76\n"
     ]
    }
   ],
   "source": [
    "#EPA dispatch capacity \n",
    "##Python Dictionary with keys and values as -\n",
    "###Key - (EPA Name)\n",
    "###Value - (Dispatch capacity in tonns at EPA)\n",
    " \n",
    "epa_cap = epa_info.copy()\n",
    "epa_cap.iloc[:,0] = index_set(epa_cap,0,'.e')\n",
    "#Total Dicpatch capacity of EPA\n",
    "epa_cap.drop(['Latitude','Longitude'],axis=1,inplace=True)\n",
    "epa_disp_cap = to_dictionary(epa_cap,2)\n",
    "epa_rail_disp_cap = epa_cap.drop(['Total Despatch Capacity (t)'], axis = 1)\n",
    "#Rail Dispatch capacity of EPA\n",
    "epa_rail_disp_cap = to_dictionary(epa_rail_disp_cap,2)\n",
    "print(len(epa_disp_cap),len(epa_rail_disp_cap))"
   ]
  },
  {
   "cell_type": "code",
   "execution_count": 9,
   "metadata": {
    "colab": {
     "base_uri": "https://localhost:8080/",
     "height": 34
    },
    "colab_type": "code",
    "id": "xUc3OmR6xipE",
    "outputId": "b12c296b-c20f-4e18-c580-b75b73b2dde4"
   },
   "outputs": [
    {
     "name": "stdout",
     "output_type": "stream",
     "text": [
      "76 76\n"
     ]
    }
   ],
   "source": [
    "#EPA Fixed and variable handling costs for road transport\n",
    "##Python Dictionary with keys and values as -\n",
    "###Key - (EPA Name)\n",
    "###Value - (Variable/Fixed habdling cost for road transported goods at EPA)\n",
    " \n",
    "epa_hndlng_road = epa_info.copy()\n",
    "epa_hndlng_road.drop(['Total Despatch Capacity (t)', 'Rail Capacity (t)',\\\n",
    "                     'Latitude','Longitude'],axis=1,inplace=True)\n",
    "epa_hndlng_road.iloc[:,0] = index_set(epa_hndlng_road,0,'.e')\n",
    "epa_hndlng_vc_road = epa_hndlng_road.drop(['Fixed Handling Cost Road'],axis=1)\n",
    "epa_hndlng_vc_road = to_dictionary(epa_hndlng_vc_road,2)\n",
    "epa_hndlng_fc_road = epa_hndlng_road.drop(['Variable Handling Cost Road'],\\\n",
    "                                          axis=1)\n",
    "epa_hndlng_fc_road = to_dictionary(epa_hndlng_fc_road,2)\n",
    "print(len(epa_hndlng_fc_road),len(epa_hndlng_vc_road))"
   ]
  },
  {
   "cell_type": "code",
   "execution_count": 10,
   "metadata": {
    "colab": {
     "base_uri": "https://localhost:8080/",
     "height": 34
    },
    "colab_type": "code",
    "id": "p1B5faUkxipI",
    "outputId": "71c48353-0eb0-4bc3-b11a-0452f2e8e0d4"
   },
   "outputs": [
    {
     "name": "stdout",
     "output_type": "stream",
     "text": [
      "76 76\n"
     ]
    }
   ],
   "source": [
    "#EPA Fixed and variable handling costs for rail transport\n",
    "##Python Dictionary with keys and values as -\n",
    "###Key - (EPA Name)\n",
    "###Value - (Variable/Fixed habdling cost for rail transported goods at EPA)\n",
    " \n",
    "epa_hndlng_rail = epa_info.copy()\n",
    "epa_hndlng_rail.drop(['Total Despatch Capacity (t)', 'Rail Capacity (t)',\\\n",
    "                      'Fixed Handling Cost Road','Variable Handling Cost Road',\\\n",
    "                     'Latitude','Longitude'],axis=1,inplace=True)\n",
    "epa_hndlng_rail.iloc[:,0] = index_set(epa_hndlng_rail,0,'.e')\n",
    "epa_hndlng_vc_rail = epa_hndlng_rail.drop(['Fixed Handling Cost Rail'],axis=1)\n",
    "epa_hndlng_vc_rail = to_dictionary(epa_hndlng_vc_rail,2)\n",
    "epa_hndlng_fc_rail = epa_hndlng_rail.drop(['Variable Handling Cost Rail'],\\\n",
    "                                          axis=1)\n",
    "epa_hndlng_fc_rail = to_dictionary(epa_hndlng_fc_rail,2)\n",
    "print(len(epa_hndlng_fc_rail),len(epa_hndlng_vc_rail))"
   ]
  },
  {
   "cell_type": "code",
   "execution_count": 11,
   "metadata": {
    "colab": {
     "base_uri": "https://localhost:8080/",
     "height": 34
    },
    "colab_type": "code",
    "id": "Y-kvKE2RsIOQ",
    "outputId": "4bf589c5-1102-4b0d-c115-5e30cde31d56"
   },
   "outputs": [
    {
     "data": {
      "text/plain": [
       "76"
      ]
     },
     "execution_count": 11,
     "metadata": {},
     "output_type": "execute_result"
    }
   ],
   "source": [
    "#EPA Inventory Holding Cost\n",
    "##Python Dictionary with keys and values as -\n",
    "###Key - (Stockyard Name)\n",
    "###Value - (Inventory Holding Factor at EPA)\n",
    " \n",
    "epa_inv_hf = epa_info.copy()\n",
    "epa_inv_hf.drop(['Total Despatch Capacity (t)', 'Rail Capacity (t)',\\\n",
    "                 'Fixed Handling Cost Road','Variable Handling Cost Road',\\\n",
    "                 'Fixed Handling Cost Rail','Variable Handling Cost Rail',\\\n",
    "                'Latitude','Longitude'],axis=1,inplace=True)\n",
    "epa_inv_hf.iloc[:,0]=index_set(epa_inv_hf,0,'.e')\n",
    "epa_inv_hf = to_dictionary(epa_inv_hf,2)\n",
    "len(epa_inv_hf)"
   ]
  },
  {
   "cell_type": "markdown",
   "metadata": {
    "colab_type": "text",
    "id": "qYfjKV8T7WgA"
   },
   "source": [
    "##### **Sheet Name** - ***SYD***\n",
    "**Data** - *Contains names, Dispatch Capacity, Road and Rail handling costs and inventory holding costs of Stockyards.*\n"
   ]
  },
  {
   "cell_type": "code",
   "execution_count": 12,
   "metadata": {
    "colab": {
     "base_uri": "https://localhost:8080/",
     "height": 34
    },
    "colab_type": "code",
    "id": "BYZVNoM8xioM",
    "outputId": "1f60e6e6-0299-4d54-e454-a887521a984d"
   },
   "outputs": [
    {
     "data": {
      "text/plain": [
       "76"
      ]
     },
     "execution_count": 12,
     "metadata": {},
     "output_type": "execute_result"
    }
   ],
   "source": [
    "#Stockyard Names\n",
    "##Python list containing Stockyard Names\n",
    "## Note:: All the Stockyard names are indexed by adding \".S\" in the end.\n",
    " \n",
    "syd_info = pd.DataFrame(wb['SYD'].values)\n",
    "syd_info.columns = syd_info.iloc[0,:]\n",
    "syd_info.drop([0], axis=0, inplace=True)\n",
    "syd = index_set(syd_info, 0,'.S')\n",
    "len(syd)"
   ]
  },
  {
   "cell_type": "code",
   "execution_count": 13,
   "metadata": {
    "colab": {
     "base_uri": "https://localhost:8080/",
     "height": 34
    },
    "colab_type": "code",
    "id": "38SN0ZzQj3jw",
    "outputId": "92588438-1dfc-403b-d7d9-83b03614537c"
   },
   "outputs": [
    {
     "name": "stdout",
     "output_type": "stream",
     "text": [
      "76 76\n"
     ]
    }
   ],
   "source": [
    "#SYD throughput capacity \n",
    "##Python Dictionary with keys and values as -\n",
    "###Key - (SYD Name)\n",
    "###Value - (Throughput capacity in tonns at Stockyard)\n",
    " \n",
    "syd_cap = syd_info.copy()\n",
    "syd_cap.iloc[:,0] = index_set(syd_cap,0,'.s')\n",
    "syd_cap.drop(['Latitude','Longitude'],axis=1,inplace=True)\n",
    "syd_total_thput = syd_cap.drop(['Rail Capacity (t)'],axis=1)\n",
    "syd_total_thput = to_dictionary(syd_total_thput,2)###Total throughput capacity of SYD\n",
    "syd_rail_thput = syd_cap.drop(['Maximum Throughput (t)'],axis=1)\n",
    "syd_rail_thput = to_dictionary(syd_rail_thput,2)###Rail throughput capacity of SYD\n",
    "print(len(syd_total_thput),len(syd_rail_thput))"
   ]
  },
  {
   "cell_type": "code",
   "execution_count": 14,
   "metadata": {
    "colab": {
     "base_uri": "https://localhost:8080/",
     "height": 34
    },
    "colab_type": "code",
    "id": "2R7P52EhxipQ",
    "outputId": "2495b177-2596-4353-abc6-ae2fc27c374c"
   },
   "outputs": [
    {
     "data": {
      "text/plain": [
       "76"
      ]
     },
     "execution_count": 14,
     "metadata": {},
     "output_type": "execute_result"
    }
   ],
   "source": [
    "#Stockyard sliding costs\n",
    "##Python Dictionary with keys and values as -\n",
    "###Key - (Stockyard Name)\n",
    "###Value - (Sliding cost per tonn of goods at SYD)\n",
    "syd_sldng_cost = syd_info.copy()\n",
    "syd_sldng_cost.drop(['Rail Capacity (t)','Maximum Throughput (t)',\\\n",
    "                    'Latitude','Longitude'],axis=1, inplace=True)\n",
    "syd_sldng_cost.iloc[:,0]=index_set(syd_sldng_cost,0,'.s')\n",
    "syd_sldng_cost = to_dictionary(syd_sldng_cost,2)\n",
    "len(syd_sldng_cost)"
   ]
  },
  {
   "cell_type": "code",
   "execution_count": 15,
   "metadata": {
    "colab": {
     "base_uri": "https://localhost:8080/",
     "height": 34
    },
    "colab_type": "code",
    "id": "etARIenWxipV",
    "outputId": "ffe76778-dd2e-4a1c-e955-34b14ad7f034"
   },
   "outputs": [
    {
     "name": "stdout",
     "output_type": "stream",
     "text": [
      "76 76\n"
     ]
    }
   ],
   "source": [
    "#Stockyard Fixed and variable handling costs for road transport\n",
    "##Python dictionary with keys and values as -\n",
    "###Key - (Stockyard Name)\n",
    "###Value-(Variable/Fixed habdling cost per tonn of road transported goods at SYD)\n",
    " \n",
    "syd_hndlng_road = syd_info.copy()\n",
    "syd_hndlng_road.drop(['Rail Capacity (t)','Maximum Throughput (t)',\\\n",
    "                      'Siding Handling Cost (Rs/t)','Latitude','Longitude'],\\\n",
    "                     axis=1, inplace=True)\n",
    "syd_hndlng_road.iloc[:,0] = index_set(syd_hndlng_road,0,'.s')\n",
    "syd_hndlng_vc_road = syd_hndlng_road.drop(['Fixed Handling Cost Road'],axis=1)\n",
    "syd_hndlng_vc_road = to_dictionary(syd_hndlng_vc_road,2)\n",
    "syd_hndlng_fc_road = syd_hndlng_road.drop(['Variable Handling Cost Road'],\\\n",
    "                                          axis=1)\n",
    "syd_hndlng_fc_road = to_dictionary(syd_hndlng_fc_road,2)\n",
    "print(len(syd_hndlng_vc_road),len(syd_hndlng_fc_road))"
   ]
  },
  {
   "cell_type": "code",
   "execution_count": 16,
   "metadata": {
    "colab": {
     "base_uri": "https://localhost:8080/",
     "height": 34
    },
    "colab_type": "code",
    "id": "5ynr0ha3xipt",
    "outputId": "98ba6012-0e26-4c38-880b-efe0bf549860"
   },
   "outputs": [
    {
     "name": "stdout",
     "output_type": "stream",
     "text": [
      "76 76\n"
     ]
    }
   ],
   "source": [
    "#Stockyard Fixed and variable handling costs for road transport\n",
    "##Python dictionary with keys and values as -\n",
    "###Key - (Stockyard Name)\n",
    "###Value-(Variable/Fixed habdling cost per tonn of road transported goods at SYD)\n",
    "\n",
    "syd_hndlng_rail = syd_info.copy()\n",
    "syd_hndlng_rail.drop(['Rail Capacity (t)','Maximum Throughput (t)',\\\n",
    "                      'Siding Handling Cost (Rs/t)','Fixed Handling Cost Road'\\\n",
    "                      ,'Variable Handling Cost Road','Latitude','Longitude'],\\\n",
    "                     axis=1, inplace=True)\n",
    "syd_hndlng_rail.iloc[:,0] = index_set(syd_hndlng_rail,0,'.s')\n",
    "syd_hndlng_vc_rail = syd_hndlng_rail.drop(['Fixed Handling Cost Rail'],axis=1)\n",
    "syd_hndlng_vc_rail = to_dictionary(syd_hndlng_vc_rail,2)\n",
    "syd_hndlng_fc_rail = syd_hndlng_rail.drop(['Variable Handling Cost Rail'],\\\n",
    "                                          axis=1)\n",
    "syd_hndlng_fc_rail = to_dictionary(syd_hndlng_fc_rail,2)\n",
    "print(len(syd_hndlng_vc_rail),len(syd_hndlng_fc_rail))"
   ]
  },
  {
   "cell_type": "code",
   "execution_count": 17,
   "metadata": {
    "colab": {
     "base_uri": "https://localhost:8080/",
     "height": 34
    },
    "colab_type": "code",
    "id": "reFV9jNxxipv",
    "outputId": "6c8813d7-ba76-48c6-e1fe-8e08d4eae572"
   },
   "outputs": [
    {
     "data": {
      "text/plain": [
       "76"
      ]
     },
     "execution_count": 17,
     "metadata": {},
     "output_type": "execute_result"
    }
   ],
   "source": [
    "#Stockyard Inventory Holding Cost\n",
    "##Python Dictionary with keys and values as -\n",
    "###Key - (Stockyard Name)\n",
    "###Value - (Inventory Holding Factor at SYD)\n",
    "\n",
    "syd_inv_hf = syd_info.copy()\n",
    "syd_inv_hf.drop(['Rail Capacity (t)','Maximum Throughput (t)',\\\n",
    "                 'Siding Handling Cost (Rs/t)','Fixed Handling Cost Road',\\\n",
    "                 'Variable Handling Cost Road', 'Fixed Handling Cost Rail'\\\n",
    "                 ,'Variable Handling Cost Rail','Latitude','Longitude'],\\\n",
    "                axis=1, inplace=True)\n",
    "syd_inv_hf.iloc[:,0]=index_set(syd_inv_hf,0,'.s')\n",
    "syd_inv_hf = to_dictionary(syd_inv_hf,2)\n",
    "len(syd_inv_hf)"
   ]
  },
  {
   "cell_type": "markdown",
   "metadata": {
    "colab_type": "text",
    "id": "7MEm1zM19S6x"
   },
   "source": [
    "##### **Sheet Name** - ***Sending_Ports***\n",
    "**Data** - *Contains names of all the ports along with their location details(latitude, longitude and state identifier), which are used as sending or dispatch ports.*"
   ]
  },
  {
   "cell_type": "code",
   "execution_count": 18,
   "metadata": {
    "colab": {
     "base_uri": "https://localhost:8080/",
     "height": 34
    },
    "colab_type": "code",
    "id": "Ml8vpKn1hRyX",
    "outputId": "85b49999-524d-4dd0-e617-f697bb68e756"
   },
   "outputs": [
    {
     "data": {
      "text/plain": [
       "4"
      ]
     },
     "execution_count": 18,
     "metadata": {},
     "output_type": "execute_result"
    }
   ],
   "source": [
    "#Sending Ports\n",
    "##Python list containing Names of Ports used for dispatching goods\n",
    "## Note::All the names are indexed as Sending Ports by adding \".PO_D\" in the end.\n",
    "\n",
    "disp_ports_info = pd.DataFrame(wb['Sending_Ports'].values)\n",
    "disp_ports_info.columns = disp_ports_info.iloc[0,:]\n",
    "disp_ports_info.drop([0], axis=0, inplace=True)\n",
    "disp_ports_info.iloc[:,0] = index_set(disp_ports_info,0,'.po_d')\n",
    "disp_ports = list(disp_ports_info.iloc[:,0])\n",
    "len(disp_ports)"
   ]
  },
  {
   "cell_type": "code",
   "execution_count": 19,
   "metadata": {
    "colab": {},
    "colab_type": "code",
    "id": "8tYmhZTj28bc"
   },
   "outputs": [],
   "source": [
    "#Dispatch Ports Variable Handling Cost \n",
    "##Python Dictionary with keys and values as -\n",
    "###Key - (Port_Name)\n",
    "###Value - (Variable Handling Cost at each port)\n",
    "\n",
    "disp_ports_hndlng_cost = disp_ports_info.copy()\n",
    "disp_ports_hndlng_cost.drop(['State Identifier','Lat','Lon'],axis= 1, inplace=True)\n",
    "disp_ports_hndlng_cost = to_dictionary(disp_ports_hndlng_cost,2)"
   ]
  },
  {
   "cell_type": "code",
   "execution_count": 20,
   "metadata": {
    "colab": {},
    "colab_type": "code",
    "id": "zeATfivi4wS8"
   },
   "outputs": [],
   "source": [
    "#Ports Capacity\n",
    "##Python Dictionary with keys and values as -\n",
    "###Key - (Port Name)\n",
    "###Value - (Min and Max handling capacity at Port)\n",
    "disp_cap = disp_ports_info.copy()\n",
    "disp_cap.drop(['State Identifier','Lat','Lon','Variable Handling Charges (Rs/t)'],\\\n",
    "              axis= 1,inplace=True)\n",
    "disp_port_min_cap = disp_cap.drop(['Maximum Throughput (t)'],axis=1)\n",
    "disp_port_min_cap = to_dictionary(disp_port_min_cap,2)\n",
    "disp_port_max_cap = disp_cap.drop(['Minimum Throughput (t)'],axis=1) ###Minimum handling capacity\n",
    "disp_port_max_cap = to_dictionary(disp_port_max_cap,2) ###Maximum handling capacity"
   ]
  },
  {
   "cell_type": "markdown",
   "metadata": {
    "colab_type": "text",
    "id": "TWP4d5Ag9-AA"
   },
   "source": [
    "##### **Sheet Name** - ***Receiving_Ports***\n",
    "**Data** - *Contains names of all the ports along with their location details(latitude, longitude and state identifier), which are used for receiving goods that are dispatched from Sending ports.*"
   ]
  },
  {
   "cell_type": "code",
   "execution_count": 21,
   "metadata": {
    "colab": {
     "base_uri": "https://localhost:8080/",
     "height": 34
    },
    "colab_type": "code",
    "id": "mUFcPFGA7Ar9",
    "outputId": "d5f2b369-89db-46ec-c848-95593d32b588"
   },
   "outputs": [
    {
     "data": {
      "text/plain": [
       "8"
      ]
     },
     "execution_count": 21,
     "metadata": {},
     "output_type": "execute_result"
    }
   ],
   "source": [
    "#Receiving Ports\n",
    "##Python list containing Names of Ports that 'receive goods' from 'disp_ports'\n",
    "##Note::All the names are indexed as Receiving Ports by adding \".PO_R\" in the end\n",
    "\n",
    "rec_ports_info = pd.DataFrame(wb['Receiving_Ports'].values)\n",
    "rec_ports_info.columns = rec_ports_info.iloc[0,:]\n",
    "rec_ports_info.drop([0], axis=0, inplace=True)\n",
    "rec_ports_info.iloc[:,0] = index_set(rec_ports_info,0,'.po_r')\n",
    "rec_ports = list(rec_ports_info.iloc[:,0])\n",
    "len(rec_ports)"
   ]
  },
  {
   "cell_type": "code",
   "execution_count": 22,
   "metadata": {
    "colab": {},
    "colab_type": "code",
    "id": "ybZOONmkxio7"
   },
   "outputs": [],
   "source": [
    "#Receivable Ports Variable Handling Cost \n",
    "##Python Dictionary with keys and values as -\n",
    "###Key - (Port_Name)\n",
    "###Value - (Variable Handling Cost at each port)\n",
    "rec_port_hndlng_cost = rec_ports_info.copy()\n",
    "rec_port_hndlng_cost.drop(['State Identifier','Lat','Lon'],axis=1, inplace=True)\n",
    "rec_port_hndlng_cost = to_dictionary(rec_port_hndlng_cost, 2)"
   ]
  },
  {
   "cell_type": "code",
   "execution_count": 23,
   "metadata": {
    "colab": {},
    "colab_type": "code",
    "id": "ho9PIvZuxio5"
   },
   "outputs": [],
   "source": [
    "#Ports Capacity\n",
    "##Python Dictionary with keys and values as -\n",
    "###Key - (Port Name)\n",
    "###Value - (Min and Max handling capacity at Port)\n",
    "rec_port_cap = rec_ports_info.copy()\n",
    "rec_port_cap.drop(['State Identifier','Lat','Lon','Variable Handling Cost']\\\n",
    "                  ,axis=1,inplace=True)\n",
    "rec_port_min_cap = rec_port_cap.drop(['Maximum Throughput (t)'],axis=1)\n",
    "rec_port_min_cap = to_dictionary(rec_port_min_cap,2)\n",
    "rec_port_max_cap = rec_port_cap.drop(['Minimum Throughput (t)'],axis=1) ###Minimum handling capacity\n",
    "rec_port_max_cap = to_dictionary(rec_port_max_cap,2) ###Maximum handling capacity"
   ]
  },
  {
   "cell_type": "markdown",
   "metadata": {
    "colab_type": "text",
    "id": "B6CBYeyD_BHT"
   },
   "source": [
    "##### **Sheet Name** - ***Products***\n",
    "**Data** - *Contains names of products and their catagorization,i.e. product types, flat products\\\n",
    "long products and total end products present in the network.*"
   ]
  },
  {
   "cell_type": "code",
   "execution_count": 24,
   "metadata": {
    "colab": {
     "base_uri": "https://localhost:8080/",
     "height": 34
    },
    "colab_type": "code",
    "id": "-8mLIC9Uxin_",
    "outputId": "688b9813-b396-4746-ed4b-13b0441410cc"
   },
   "outputs": [
    {
     "name": "stdout",
     "output_type": "stream",
     "text": [
      "9 49 33 16\n"
     ]
    }
   ],
   "source": [
    "#Products\n",
    "##Python list containing names of products\n",
    "products = pd.DataFrame(wb['Products'].values)\n",
    "product_catagories = list(products.iloc[1:,0].dropna(axis=0))\n",
    "end_products = list(products.iloc[1:,2].dropna(axis=0))\n",
    "flat_products = list(products.iloc[1:,4].dropna(axis=0))\n",
    "long_products = list(products.iloc[1:,6].dropna(axis=0))\n",
    "print(len(product_catagories),len(end_products),len(flat_products),\\\n",
    "      len(long_products))"
   ]
  },
  {
   "cell_type": "markdown",
   "metadata": {
    "colab_type": "text",
    "id": "qH8xOvJmDcRm"
   },
   "source": [
    "##### **Sheet Name** - ***Supply***\n",
    "**Data** - *Contains product wise supply capacity for EPAs.*"
   ]
  },
  {
   "cell_type": "code",
   "execution_count": 25,
   "metadata": {
    "colab": {
     "base_uri": "https://localhost:8080/",
     "height": 34
    },
    "colab_type": "code",
    "id": "6hwpRhC6xioQ",
    "outputId": "3edd41aa-6170-41e4-fbb4-84d0655aa10d"
   },
   "outputs": [
    {
     "data": {
      "text/plain": [
       "3724"
      ]
     },
     "execution_count": 25,
     "metadata": {},
     "output_type": "execute_result"
    }
   ],
   "source": [
    "#Supply Capacity of EPAs\n",
    "##Python Dictionary with keys and values as - \n",
    "###Key - (Source, Product) \n",
    "###Value - (supply capacity of product at source)\n",
    "\n",
    "supply_epa = pd.DataFrame(wb['Supply'].values)\n",
    "supply_epa.columns = supply_epa.iloc[0,:]\n",
    "supply_epa.drop([0],axis=0, inplace=True)\n",
    "supply_epa.iloc[:,0]=index_set(supply_epa,0,'.e')\n",
    "supply_epa.set_index(\"EPA Name\", inplace =True, drop = True)\n",
    "supply_epa = supply_epa.stack().to_dict()\n",
    "len(supply_epa)"
   ]
  },
  {
   "cell_type": "markdown",
   "metadata": {
    "colab_type": "text",
    "id": "owyre2R653mY"
   },
   "source": [
    "##### **Sheet Name** - ***Supply Mills***\n",
    "**Data** - *Contains product wise supply capacity information for each mill.*"
   ]
  },
  {
   "cell_type": "code",
   "execution_count": 26,
   "metadata": {
    "colab": {
     "base_uri": "https://localhost:8080/",
     "height": 34
    },
    "colab_type": "code",
    "id": "hqkSLW7KxioJ",
    "outputId": "c54581a0-320f-46fb-f555-1e0fb4a4013c"
   },
   "outputs": [
    {
     "data": {
      "text/plain": [
       "18"
      ]
     },
     "execution_count": 26,
     "metadata": {},
     "output_type": "execute_result"
    }
   ],
   "source": [
    "#Supply Capacity of Mills\n",
    "##Python Dictionary with keys and values as - \n",
    "###Key - (Mill Name, Product) \n",
    "###Value - (supply capacity of product at Mill)\n",
    "\n",
    "supply_mills = pd.DataFrame(wb['Supply Mills'].values)\n",
    "supply_mills.columns = supply_mills.iloc[0,:]\n",
    "supply_mills.drop([0],axis=0, inplace=True)\n",
    "mills = list(supply_mills.iloc[:,0])\n",
    "supply_mills.set_index(\"Mills Name\", inplace =True, drop = True)\n",
    "supply_mills = supply_mills*1000\n",
    "supply_mills = supply_mills.stack().to_dict()\n",
    "len(supply_mills)"
   ]
  },
  {
   "cell_type": "markdown",
   "metadata": {
    "colab_type": "text",
    "id": "VrTjypBXDy5E"
   },
   "source": [
    "##### **Sheet Name** - ***Demand***\n",
    "**Data** - *Contains product wise demand at all customer nodes.*"
   ]
  },
  {
   "cell_type": "code",
   "execution_count": 27,
   "metadata": {
    "colab": {
     "base_uri": "https://localhost:8080/",
     "height": 34
    },
    "colab_type": "code",
    "id": "0Wqu6rJpxioS",
    "outputId": "53dd5c79-da75-4d81-9556-434e12f7fc7c"
   },
   "outputs": [
    {
     "data": {
      "text/plain": [
       "16268"
      ]
     },
     "execution_count": 27,
     "metadata": {},
     "output_type": "execute_result"
    }
   ],
   "source": [
    "#Demand information\n",
    "##Python Dictionary with keys and values as -\n",
    "###Key - (Sink, Product) \n",
    "###Value - (demand requirement of product at sink)\n",
    "\n",
    "demand_df = pd.DataFrame(wb['Demand'].values)\n",
    "demand_df.columns = demand_df.iloc[0,:]\n",
    "demand_df.drop([0],axis=0, inplace=True)\n",
    "demand_df.iloc[:,0]=index_set(demand_df,0,'.c')\n",
    "demand_df.set_index(['Cust. Location'], inplace=True, drop=True)\n",
    "demand = demand_df.stack().to_dict()\n",
    "len(demand)"
   ]
  },
  {
   "cell_type": "markdown",
   "metadata": {
    "colab_type": "text",
    "id": "uYV9xb1VFM4Y"
   },
   "source": [
    "##### **Sheet Name** - ***Rail_Cost***\n",
    "**Data** - *Contains per tonn cost of transporting goods between two network nodes using railways.\\\n",
    "**Note::** Railways can transport good only between source and transshipment nodes.*"
   ]
  },
  {
   "cell_type": "code",
   "execution_count": 28,
   "metadata": {
    "colab": {},
    "colab_type": "code",
    "id": "NQmxxyHVxioW"
   },
   "outputs": [],
   "source": [
    "#Rail transport cost between two nodes\n",
    "rail_cost_sheet = pd.DataFrame(wb['Rail_Cost'].values)\n",
    "rail_cost_pl_pl = rail_cost_sheet.iloc[:,4:7].dropna(axis=0)\n",
    "rail_cost_pl_pl.columns = rail_cost_pl_pl.iloc[0,:]\n",
    "rail_cost_pl_pl.drop([0],axis=0, inplace=True)\n"
   ]
  },
  {
   "cell_type": "code",
   "execution_count": 29,
   "metadata": {
    "colab": {
     "base_uri": "https://localhost:8080/",
     "height": 34
    },
    "colab_type": "code",
    "id": "J_9TSJHirJ4H",
    "outputId": "cb848932-f0a4-49a9-eccf-997f85ba8b31"
   },
   "outputs": [
    {
     "data": {
      "text/plain": [
       "152"
      ]
     },
     "execution_count": 29,
     "metadata": {},
     "output_type": "execute_result"
    }
   ],
   "source": [
    "#Per tonn rail trans. cost from Mills to EPAs\n",
    "##Python dictionary with keys and values as -\n",
    "###Key - (From, To)\n",
    "###Value - (Unit cost of transportation between nodes)\n",
    "rail_cost_m_e = rail_cost_sheet.iloc[:,0:3].dropna(axis=0)\n",
    "rail_cost_m_e.columns = rail_cost_m_e.iloc[0,:]\n",
    "rail_cost_m_e.drop([0],axis=0, inplace=True)\n",
    "rail_cost_m_e.iloc[:,1] = index_set(rail_cost_m_e,1,'.e')\n",
    "rail_cost_m_e = to_dictionary(rail_cost_m_e,3)\n",
    "len(rail_cost_m_e)"
   ]
  },
  {
   "cell_type": "code",
   "execution_count": 30,
   "metadata": {
    "colab": {
     "base_uri": "https://localhost:8080/",
     "height": 34
    },
    "colab_type": "code",
    "id": "zBgSYs65qwkM",
    "outputId": "1da2d988-756b-4a49-a3c7-bd5daf4f71bf"
   },
   "outputs": [
    {
     "data": {
      "text/plain": [
       "5776"
      ]
     },
     "execution_count": 30,
     "metadata": {},
     "output_type": "execute_result"
    }
   ],
   "source": [
    "# Per tonn rail trans. cost from Non manufacturing EPAs to Stockyards\n",
    "##Python dictionary with keys and values as -\n",
    "###Key - (From, To)\n",
    "###Value - (Unit cost of transportation between nodes)\n",
    "rail_cost_e_s=pd.DataFrame(data={'From':index_set(rail_cost_pl_pl,0,'.e'),\\\n",
    "                                 'To': index_set(rail_cost_pl_pl,1,'.s'),\\\n",
    "                                 'Rate/tonn':rail_cost_pl_pl.iloc[:,2]})\n",
    "rail_cost_e_s = to_dictionary(rail_cost_e_s,3)\n",
    "len(rail_cost_e_s)"
   ]
  },
  {
   "cell_type": "code",
   "execution_count": 31,
   "metadata": {
    "colab": {
     "base_uri": "https://localhost:8080/",
     "height": 34
    },
    "colab_type": "code",
    "id": "vAB9Z4ZHq9dx",
    "outputId": "4fb9aa2a-17e0-462b-f445-9e673f4a243b"
   },
   "outputs": [
    {
     "data": {
      "text/plain": [
       "5776"
      ]
     },
     "execution_count": 31,
     "metadata": {},
     "output_type": "execute_result"
    }
   ],
   "source": [
    "# Per tonn rail trans. Cost from Stockyards to Stockyards\n",
    "##Python dictionary with keys and values as -\n",
    "###Key - (From, To)\n",
    "###Value - (Unit cost of transportation between nodes)\n",
    "rail_cost_s_s=pd.DataFrame(data={'From':index_set(rail_cost_pl_pl,0,'.s'),\\\n",
    "                                 'To': index_set(rail_cost_pl_pl,1,'.s'),\\\n",
    "                                 'Rate/tonn':rail_cost_pl_pl.iloc[:,2]})\n",
    "rail_cost_s_s = to_dictionary(rail_cost_s_s,3)\n",
    "len(rail_cost_s_s)"
   ]
  },
  {
   "cell_type": "markdown",
   "metadata": {
    "colab_type": "text",
    "id": "g325qX5_H_hg"
   },
   "source": [
    "##### **Sheet Name** - ***Road_Cost***\n",
    "**Data** - *Contains per tonn cost of transporting goods between two network nodes using roadways.\\\n",
    "**Note::** Roadways can transport good between any two network nodes in the network.*"
   ]
  },
  {
   "cell_type": "code",
   "execution_count": 32,
   "metadata": {
    "colab": {},
    "colab_type": "code",
    "id": "MyO9ODCBxioc"
   },
   "outputs": [],
   "source": [
    "#Road transport cost between two nodes\n",
    "\n",
    "road_cost_sheet = pd.DataFrame(wb['Road_Cost'].values)\n",
    "road_cost_sheet.columns = road_cost_sheet.iloc[0,:]\n",
    "road_cost_sheet.drop([0],axis=0, inplace= True)\n",
    "road_cost_pl_pl = road_cost_sheet.iloc[:,0:3].dropna(axis=0)\n",
    "road_cost_m_e = road_cost_sheet.iloc[:,4:7].dropna(axis=0)\n",
    "road_cost_pl_c = road_cost_sheet.iloc[:,8:11].dropna(axis=0)"
   ]
  },
  {
   "cell_type": "code",
   "execution_count": 33,
   "metadata": {
    "colab": {
     "base_uri": "https://localhost:8080/",
     "height": 34
    },
    "colab_type": "code",
    "id": "jUv5Grdjy1ZM",
    "outputId": "cc42590f-bcd4-40ac-b697-fe79809c5d4e"
   },
   "outputs": [
    {
     "data": {
      "text/plain": [
       "152"
      ]
     },
     "execution_count": 33,
     "metadata": {},
     "output_type": "execute_result"
    }
   ],
   "source": [
    "#Per tonn road trans. Cost from Mills to Non mfg. EPAs\n",
    "##Python dictionart with keys and values as -\n",
    "###Key - (From, To) \n",
    "###Value - (Unit cost of transportation between nodes)\n",
    "road_cost_m_e =pd.DataFrame(data={'From':road_cost_m_e.iloc[:,0],\\\n",
    "                                  'To': index_set(road_cost_m_e,1,'.e'),\\\n",
    "                                  'Rate/tonn':road_cost_m_e.iloc[:,2]})\n",
    "road_cost_m_e = to_dictionary(road_cost_m_e,3)\n",
    "len(road_cost_m_e)"
   ]
  },
  {
   "cell_type": "code",
   "execution_count": 34,
   "metadata": {
    "colab": {
     "base_uri": "https://localhost:8080/",
     "height": 34
    },
    "colab_type": "code",
    "id": "Lk3OP89oy0uO",
    "outputId": "dc57124d-90a9-45b4-db5b-e01fcf633c7f"
   },
   "outputs": [
    {
     "data": {
      "text/plain": [
       "5776"
      ]
     },
     "execution_count": 34,
     "metadata": {},
     "output_type": "execute_result"
    }
   ],
   "source": [
    "#Per tonn road trans. Cost from Non mfg. EPAs and Stockyards\n",
    "##Python dictionart with keys and values as -\n",
    "###Key - (From, To) \n",
    "###Value - (Unit cost of transportation between nodes)\n",
    "road_cost_e_s =pd.DataFrame(data={'From':index_set(road_cost_pl_pl,0,'.e'),\\\n",
    "                                  'To': index_set(road_cost_pl_pl,1,'.s'),\\\n",
    "                                  'Rate/tonn':road_cost_pl_pl.iloc[:,2]})\n",
    "road_cost_e_s = to_dictionary(road_cost_e_s,3)\n",
    "len(road_cost_e_s)"
   ]
  },
  {
   "cell_type": "code",
   "execution_count": 35,
   "metadata": {
    "colab": {
     "base_uri": "https://localhost:8080/",
     "height": 34
    },
    "colab_type": "code",
    "id": "J2VCHB9xy0oy",
    "outputId": "2a606c47-6366-4073-bc61-f6ff9cdee8f9"
   },
   "outputs": [
    {
     "data": {
      "text/plain": [
       "25232"
      ]
     },
     "execution_count": 35,
     "metadata": {},
     "output_type": "execute_result"
    }
   ],
   "source": [
    "#Per tonn road trans. Cost Non mfg. EPAs to Customers\n",
    "##Python dictionart with keys and values as -\n",
    "###Key - (From, To) \n",
    "###Value - (Unit cost of transportation between nodes)\n",
    "road_cost_e_c =pd.DataFrame(data={'From':index_set(road_cost_pl_c,0,'.e'),\\\n",
    "                                  'To': index_set(road_cost_pl_c,1,'.c'),\\\n",
    "                                  'Rate/tonn':road_cost_pl_c.iloc[:,2]})\n",
    "road_cost_e_c = to_dictionary(road_cost_e_c,3)\n",
    "len(road_cost_e_c)"
   ]
  },
  {
   "cell_type": "code",
   "execution_count": 36,
   "metadata": {
    "colab": {
     "base_uri": "https://localhost:8080/",
     "height": 34
    },
    "colab_type": "code",
    "id": "I2kq5Xs_y0gY",
    "outputId": "adfeebcf-51af-4fc7-caf6-8997c06c8d70"
   },
   "outputs": [
    {
     "data": {
      "text/plain": [
       "5776"
      ]
     },
     "execution_count": 36,
     "metadata": {},
     "output_type": "execute_result"
    }
   ],
   "source": [
    "#Per tonn road trans. Cost from Stockyards to Stockyards\n",
    "##Python dictionart with keys and values as -\n",
    "###Key - (From, To) \n",
    "###Value - (Unit cost of transportation between nodes)\n",
    "road_cost_s_s =pd.DataFrame(data={'From':index_set(road_cost_pl_pl,0,'.s'),\\\n",
    "                                  'To': index_set(road_cost_pl_pl,1,'.s'),\\\n",
    "                                  'Rate/tonn':road_cost_pl_pl.iloc[:,2]})\n",
    "road_cost_s_s = to_dictionary(road_cost_s_s,3)\n",
    "len(road_cost_s_s)"
   ]
  },
  {
   "cell_type": "code",
   "execution_count": 37,
   "metadata": {
    "colab": {
     "base_uri": "https://localhost:8080/",
     "height": 34
    },
    "colab_type": "code",
    "id": "XJAvbXEyyz18",
    "outputId": "59e3d343-f06d-4e25-bb6d-f1964865e7ff"
   },
   "outputs": [
    {
     "data": {
      "text/plain": [
       "25232"
      ]
     },
     "execution_count": 37,
     "metadata": {},
     "output_type": "execute_result"
    }
   ],
   "source": [
    "#Per tonn road trans. Cost from Stockyards to Customers\n",
    "##Python dictionart with keys and values as -\n",
    "###Key - (From, To) \n",
    "###Value - (Unit cost of transportation between nodes)\n",
    "road_cost_s_c =pd.DataFrame(data={'From':index_set(road_cost_pl_c,0,'.s'),\\\n",
    "                                  'To': index_set(road_cost_pl_c,1,'.c'),\\\n",
    "                                  'Rate/tonn':road_cost_pl_c.iloc[:,2]})\n",
    "road_cost_s_c = to_dictionary(road_cost_s_c,3)\n",
    "len(road_cost_s_c)"
   ]
  },
  {
   "cell_type": "markdown",
   "metadata": {
    "colab_type": "text",
    "id": "crJEW4KdIRAx"
   },
   "source": [
    "##### **Sheet Name** - ***Coastal_Cost***\n",
    "**Data** - *Contains per tonn cost of transporting goods between two network nodes using waterways."
   ]
  },
  {
   "cell_type": "code",
   "execution_count": 38,
   "metadata": {
    "colab": {},
    "colab_type": "code",
    "id": "RYNYkV6Bxiol"
   },
   "outputs": [],
   "source": [
    "#Coastal transport cost between 'disp_ports' and 'rec_ports', and between 'rec_ports' and customers\n",
    "coastal_cost_sheet = pd.DataFrame(wb['Coastal_Cost'].values)\n",
    "coastal_cost_sheet.columns = coastal_cost_sheet.iloc[0,:]\n",
    "coastal_cost_sheet.drop([0], axis=0, inplace=True)\n",
    "port_to_cust_cost = coastal_cost_sheet.iloc[:,0:3].dropna(axis=0)\n",
    "port_to_port_cost = coastal_cost_sheet.iloc[:,5:8].dropna(axis=0)\n",
    "#Goods are transported to 'disp_ports', via road transport"
   ]
  },
  {
   "cell_type": "code",
   "execution_count": 39,
   "metadata": {
    "colab": {
     "base_uri": "https://localhost:8080/",
     "height": 34
    },
    "colab_type": "code",
    "id": "U00UW8Gg2EMw",
    "outputId": "6fa208e7-66d4-40ed-c91f-c9c51ffa901e"
   },
   "outputs": [
    {
     "data": {
      "text/plain": [
       "32"
      ]
     },
     "execution_count": 39,
     "metadata": {},
     "output_type": "execute_result"
    }
   ],
   "source": [
    "# Per tonn Coastal trans. cost between dispatch ports and receiving ports\n",
    "##Python Dictionary with keys and values as -\n",
    "###Key - (From, To)\n",
    "#Value - (Unit cost of transportation between two ports/ port and customer)\n",
    "port_to_port_cost =pd.DataFrame(data={'From':index_set(port_to_port_cost,0,'.po_d'),\\\n",
    "                                      'To': index_set(port_to_port_cost,1,'.po_r'),\\\n",
    "                              'Rate/tonn':port_to_port_cost.iloc[:,2]})\n",
    "port_to_port_cost = to_dictionary(port_to_port_cost,3)\n",
    "len(port_to_port_cost)"
   ]
  },
  {
   "cell_type": "code",
   "execution_count": 40,
   "metadata": {
    "colab": {
     "base_uri": "https://localhost:8080/",
     "height": 34
    },
    "colab_type": "code",
    "id": "g9PPjNkj2EYo",
    "outputId": "5435d114-9a74-4ab9-e337-b8e0025e6f4b"
   },
   "outputs": [
    {
     "data": {
      "text/plain": [
       "2656"
      ]
     },
     "execution_count": 40,
     "metadata": {},
     "output_type": "execute_result"
    }
   ],
   "source": [
    "# Per tonn Coastal trans. cost between receiving ports and Customers\n",
    "##Python Dictionary with keys and values as -\n",
    "###Key - (From, To)\n",
    "#Value - (Unit cost of transportation between two ports/ port and customer)\n",
    "port_to_cust_cost =pd.DataFrame(data={'From':index_set(port_to_cust_cost,0,'.po_r')\\\n",
    "                                      ,'To': index_set(port_to_cust_cost,1,'.c')\\\n",
    "                                      ,'Rate/tonn':port_to_cust_cost.iloc[:,2]})\n",
    "port_to_cust_cost = to_dictionary(port_to_cust_cost,3)\n",
    "len(port_to_cust_cost)"
   ]
  },
  {
   "cell_type": "markdown",
   "metadata": {
    "colab_type": "text",
    "id": "ugugDTlFJfMM"
   },
   "source": [
    "##### **Sheet Name** - ***PL_Port_Cost***\n",
    "**Data** - *Contains per tonn cost of transporting goods from potential location to the dispatch ports using roadways.*"
   ]
  },
  {
   "cell_type": "code",
   "execution_count": 41,
   "metadata": {
    "colab": {},
    "colab_type": "code",
    "id": "TL97Jefzxios"
   },
   "outputs": [],
   "source": [
    "#Cost of transporting goods from Supply Locations to 'disp_ports' via road\n",
    "\n",
    "pl_port_cost = pd.DataFrame(wb['PL_Port_Cost'].values)\n",
    "x=pl_port_cost.T\n",
    "pl_port_cost.iloc[0,:] = index_set(x,0,'.po_d')\n",
    "pl_port_cost.columns = pl_port_cost.iloc[0,:]\n",
    "pl_port_cost.drop([0], axis = 0, inplace = True)"
   ]
  },
  {
   "cell_type": "code",
   "execution_count": 42,
   "metadata": {
    "colab": {
     "base_uri": "https://localhost:8080/",
     "height": 34
    },
    "colab_type": "code",
    "id": "JxyIr7_v7oRZ",
    "outputId": "7c62bb8e-ec07-4312-f237-cf7bcc999c8c"
   },
   "outputs": [
    {
     "data": {
      "text/plain": [
       "304"
      ]
     },
     "execution_count": 42,
     "metadata": {},
     "output_type": "execute_result"
    }
   ],
   "source": [
    "#Cost of transporting goods from Non mfg. EPA to 'disp_ports' via road\n",
    "##Python Dictionary with keys and values as -\n",
    "###Key - (Supply_loc, Port)\n",
    "###Value - (Unit cost of transportation between EPA/SYD and ports)\n",
    "\n",
    "e_port_cost = pl_port_cost.copy()\n",
    "e_port_cost.iloc[:,0] = index_set(e_port_cost,0,'.e')\n",
    "e_port_cost.set_index('FROM/TO.PO_D', inplace=True, drop = True)\n",
    "e_port_cost = e_port_cost.stack().to_dict()\n",
    "len(e_port_cost)"
   ]
  },
  {
   "cell_type": "code",
   "execution_count": 43,
   "metadata": {
    "colab": {
     "base_uri": "https://localhost:8080/",
     "height": 34
    },
    "colab_type": "code",
    "id": "flZYSXXI7d3_",
    "outputId": "1875d755-3d55-4518-92b8-9ad934eb8e34"
   },
   "outputs": [
    {
     "data": {
      "text/plain": [
       "304"
      ]
     },
     "execution_count": 43,
     "metadata": {},
     "output_type": "execute_result"
    }
   ],
   "source": [
    "#Cost of transporting goods from Stockyards to 'disp_ports' via road\n",
    "##Python Dictionary with keys and values as -\n",
    "###Key - (Supply_loc, Port)\n",
    "###Value - (Unit cost of transportation between EPA/SYD and ports)\n",
    "\n",
    "s_port_cost = pl_port_cost.copy()\n",
    "s_port_cost.iloc[:,0] = index_set(s_port_cost,0,'.s')\n",
    "s_port_cost.set_index('FROM/TO.PO_D', inplace=True, drop = True)\n",
    "s_port_cost = s_port_cost.stack().to_dict()\n",
    "len(s_port_cost)"
   ]
  },
  {
   "cell_type": "markdown",
   "metadata": {
    "colab_type": "text",
    "id": "xf87z2moLnWY"
   },
   "source": [
    "##### **Sheet Name** - ***EPA_Conversion_Cost***\n",
    "**Data** - *Contains cost of converting goods from semifinished form to finished form at a Non manufacturing EPA on per tonn basis.*"
   ]
  },
  {
   "cell_type": "code",
   "execution_count": 44,
   "metadata": {
    "colab": {
     "base_uri": "https://localhost:8080/",
     "height": 34
    },
    "colab_type": "code",
    "id": "3wZyz3_Txio-",
    "outputId": "8e7cd47f-a220-40e8-f9ba-d98a2621d6e7"
   },
   "outputs": [
    {
     "data": {
      "text/plain": [
       "3724"
      ]
     },
     "execution_count": 44,
     "metadata": {},
     "output_type": "execute_result"
    }
   ],
   "source": [
    "#Non mfg. EPA Conversion cost \n",
    "##Python Dictionary with keys and values as -\n",
    "###Key - (EPA Name, Product)\n",
    "###Value - (Unit cost of converting products at EPA)\n",
    "\n",
    "e_cnvrsn_cost = pd.DataFrame(wb['NME_Conversion_Cost'].values)\n",
    "e_cnvrsn_cost.columns = e_cnvrsn_cost.iloc[0,:]\n",
    "e_cnvrsn_cost.drop([0],axis=0,inplace=True)\n",
    "e_cnvrsn_cost.iloc[:,0]= index_set(e_cnvrsn_cost,0,'.e')\n",
    "e_cnvrsn_cost.set_index('EPA Name',inplace = True, drop= True)\n",
    "e_cnvrsn_cost = e_cnvrsn_cost.stack().to_dict()\n",
    "len(e_cnvrsn_cost)"
   ]
  },
  {
   "cell_type": "markdown",
   "metadata": {
    "colab_type": "text",
    "id": "iWBKXpeNM18E"
   },
   "source": [
    "##### **Sheet Name** - ***Distance***\n",
    "**Data** - *Contains distance, in km, between a potential location node and a customer node.*"
   ]
  },
  {
   "cell_type": "code",
   "execution_count": 45,
   "metadata": {
    "colab": {
     "base_uri": "https://localhost:8080/",
     "height": 34
    },
    "colab_type": "code",
    "id": "EnKDqmIoxiow",
    "outputId": "be638284-06fc-4c45-8d95-8da7b393528f"
   },
   "outputs": [
    {
     "data": {
      "text/plain": [
       "25096"
      ]
     },
     "execution_count": 45,
     "metadata": {},
     "output_type": "execute_result"
    }
   ],
   "source": [
    "#Distance between two potential locations and customers\n",
    "##Python Dictionary with keys and values as -\n",
    "###Key - (From Node, To Node)\n",
    "###Value - (Distance between nodes in KM)\n",
    "\n",
    "dist = pd.DataFrame(wb['Distance'].values)\n",
    "dist.columns = dist.iloc[0,:]\n",
    "dist.drop([0],inplace=True)\n",
    "dist = to_dictionary(dist,3)\n",
    "len(dist)"
   ]
  },
  {
   "cell_type": "markdown",
   "metadata": {
    "colab_type": "text",
    "id": "DIYqwmWJNzce"
   },
   "source": [
    "##### **Sheet Name** - ***Direct_Shipment***\n",
    "**Data** - *Contains Percentage of allowed direct shipments for each customer.*"
   ]
  },
  {
   "cell_type": "code",
   "execution_count": 46,
   "metadata": {
    "colab": {
     "base_uri": "https://localhost:8080/",
     "height": 34
    },
    "colab_type": "code",
    "id": "ge0U5B5yxip0",
    "outputId": "a90382bb-6f84-4f27-a849-2ae058e00f2c"
   },
   "outputs": [
    {
     "name": "stdout",
     "output_type": "stream",
     "text": [
      "332 332\n"
     ]
    }
   ],
   "source": [
    "#Percentage direct shipment for flat and long products for each customer\n",
    "##Python Dictionary with keys and values as -\n",
    "###Key - (Customer Name)\n",
    "###Value - (%of direct shipment allowed)\n",
    "\n",
    "direct_ship = pd.DataFrame(wb['Direct_Shipment'].values)\n",
    "direct_ship = direct_ship.iloc[:,0:3]\n",
    "direct_ship.columns = direct_ship.iloc[0,:]\n",
    "direct_ship.drop([0],inplace=True)\n",
    "direct_ship.iloc[:,0] = index_set(direct_ship,0,'.c')\n",
    "direct_ship_flat = direct_ship.drop(['% FLAT direct'],axis=1)\n",
    "#Direct shipment allowed for flat products at customer location\n",
    "direct_ship_flat = to_dictionary(direct_ship_flat,2)\n",
    "direct_ship_long = direct_ship.drop(['% direct (LONG)'],axis=1)\n",
    "#Direct shipment allowed for long products at customer location\n",
    "direct_ship_long = to_dictionary(direct_ship_long,2)\n",
    "print(len(direct_ship_flat), len(direct_ship_flat))"
   ]
  },
  {
   "cell_type": "markdown",
   "metadata": {
    "colab_type": "text",
    "id": "4kpMvzEDOAoL"
   },
   "source": [
    "##### **Sheet Name** - ***SLA_Shipment***\n",
    "**Data** - *Contains Percentage of allowed SLA shipments for each customer.*"
   ]
  },
  {
   "cell_type": "code",
   "execution_count": 47,
   "metadata": {
    "colab": {
     "base_uri": "https://localhost:8080/",
     "height": 34
    },
    "colab_type": "code",
    "id": "UJzbLEkRxip3",
    "outputId": "9a064458-4680-41cc-ce3b-ca078ccdd0b2"
   },
   "outputs": [
    {
     "name": "stdout",
     "output_type": "stream",
     "text": [
      "332 332\n"
     ]
    }
   ],
   "source": [
    "#Percentage SLA shipment for flat and long products for each customer\n",
    "##Python Dictionary with keys and values as -\n",
    "###Key - (Customer Name)\n",
    "###Value - (%of SLA shipment allowed)\n",
    "sla_ship = pd.DataFrame(wb['SLA_Shipment'].values)\n",
    "sla_ship = sla_ship.iloc[:,0:3]\n",
    "sla_ship.columns = sla_ship.iloc[0,:]\n",
    "sla_ship.drop([0],inplace=True)\n",
    "sla_ship.iloc[:,0]= index_set(sla_ship,0,'.c')\n",
    "sla_ship_flat = sla_ship.drop(['% served through SLA (FLAT)'],axis = 1)\n",
    "#SLA shipment allowed for flat products at customer location\n",
    "sla_ship_flat = to_dictionary(sla_ship_flat,2)\n",
    "sla_ship_long = sla_ship.drop(['% served through SLA (LONG)'],axis = 1)\n",
    "#SLA shipment allowed for long products at customer location\n",
    "sla_ship_long = to_dictionary(sla_ship_long,2)\n",
    "print(len(sla_ship_flat), len(sla_ship_flat))"
   ]
  },
  {
   "cell_type": "markdown",
   "metadata": {
    "colab_type": "text",
    "id": "mcgyE0kLOFip"
   },
   "source": [
    "##### **Sheet Name** - ***Type_to_Form***\n",
    "**Data** - *Explains which end products can be produced from each of products supplied by mills.*"
   ]
  },
  {
   "cell_type": "code",
   "execution_count": 48,
   "metadata": {
    "colab": {
     "base_uri": "https://localhost:8080/",
     "height": 34
    },
    "colab_type": "code",
    "id": "fYnjx2Dbxip7",
    "outputId": "bc30c912-0a74-4603-a515-a8833802a03c"
   },
   "outputs": [
    {
     "data": {
      "text/plain": [
       "441"
      ]
     },
     "execution_count": 48,
     "metadata": {},
     "output_type": "execute_result"
    }
   ],
   "source": [
    "#Reaading Type to form conversion principle as a dictionary\n",
    "##Python Dictionary with keys and values as -\n",
    "#Key-(Product Type, Product Form)\n",
    "#Value-(a binary variable-1 if it's possible to convert form product type to form, 0 otherwise)\n",
    "t2f = pd.DataFrame(wb['Type_to_Form'].values)\n",
    "t2f.columns = t2f.iloc[0,:]\n",
    "t2f.drop([0],axis=0,inplace = True)\n",
    "t2f.set_index('Type/Form', inplace=True, drop = True)\n",
    "t2f = t2f.stack().to_dict()\n",
    "len(t2f)"
   ]
  },
  {
   "cell_type": "markdown",
   "metadata": {
    "colab_type": "text",
    "id": "fdqyZhWYxiqp"
   },
   "source": [
    "# **Formulating the model**"
   ]
  },
  {
   "cell_type": "markdown",
   "metadata": {
    "colab_type": "text",
    "id": "bMQe_yJROnNU"
   },
   "source": [
    "Creating a **Concrete Model**, named as ***model***"
   ]
  },
  {
   "cell_type": "code",
   "execution_count": 49,
   "metadata": {
    "colab": {},
    "colab_type": "code",
    "id": "bZmPiFSMxiqs"
   },
   "outputs": [],
   "source": [
    "model = ConcreteModel()"
   ]
  },
  {
   "cell_type": "markdown",
   "metadata": {
    "colab_type": "text",
    "id": "gFaG5HIHxiqu"
   },
   "source": [
    "### **Sets**"
   ]
  },
  {
   "cell_type": "code",
   "execution_count": 50,
   "metadata": {
    "colab": {},
    "colab_type": "code",
    "id": "epYHVzKdxiq1"
   },
   "outputs": [],
   "source": [
    "#Set Mills\n",
    "model.M = Set(initialize = mills, doc = 'mills')"
   ]
  },
  {
   "cell_type": "code",
   "execution_count": 51,
   "metadata": {
    "colab": {},
    "colab_type": "code",
    "id": "vifpQd48xiq8"
   },
   "outputs": [],
   "source": [
    "#Set EPAs\n",
    "model.E = Set(initialize = epa, doc = 'EPAs')"
   ]
  },
  {
   "cell_type": "code",
   "execution_count": 52,
   "metadata": {
    "colab": {},
    "colab_type": "code",
    "id": "tAb5IRJGxiq_"
   },
   "outputs": [],
   "source": [
    "#Set Stockyards\n",
    "model.S = Set(initialize = syd, doc= 'Stockyards')"
   ]
  },
  {
   "cell_type": "code",
   "execution_count": 53,
   "metadata": {
    "colab": {},
    "colab_type": "code",
    "id": "zqPMJ6AKxirD"
   },
   "outputs": [],
   "source": [
    "#Set Customers\n",
    "model.C = Set(initialize = customers, doc = 'customers')"
   ]
  },
  {
   "cell_type": "code",
   "execution_count": 54,
   "metadata": {
    "colab": {},
    "colab_type": "code",
    "id": "UUovM7p_xirB"
   },
   "outputs": [],
   "source": [
    "#Set Products\n",
    "model.I = Set(initialize = end_products, doc= 'Products')"
   ]
  },
  {
   "cell_type": "code",
   "execution_count": 55,
   "metadata": {
    "colab": {},
    "colab_type": "code",
    "id": "eKy9FYJLxirK"
   },
   "outputs": [],
   "source": [
    "#Set Long Products\n",
    "model.LP = Set(initialize = long_products, doc = 'Long Products')"
   ]
  },
  {
   "cell_type": "code",
   "execution_count": 56,
   "metadata": {
    "colab": {},
    "colab_type": "code",
    "id": "gGGnKcNXxirP"
   },
   "outputs": [],
   "source": [
    "#Set Flat Products\n",
    "model.FP = Set(initialize = flat_products, doc = 'Flat Products')"
   ]
  },
  {
   "cell_type": "code",
   "execution_count": 57,
   "metadata": {
    "colab": {},
    "colab_type": "code",
    "id": "mpO_Lt35-HrU"
   },
   "outputs": [],
   "source": [
    "#Set Potential Locations\n",
    "model.IM = Set(initialize = product_catagories, doc = 'Products supplied by  mills')"
   ]
  },
  {
   "cell_type": "code",
   "execution_count": 58,
   "metadata": {
    "colab": {},
    "colab_type": "code",
    "id": "Wn9n8bSa75u1"
   },
   "outputs": [],
   "source": [
    "#Set Dispatch ports\n",
    "model.PO_D = Set(initialize = disp_ports, doc = 'Sending Ports or Dispatch Ports')"
   ]
  },
  {
   "cell_type": "code",
   "execution_count": 59,
   "metadata": {
    "colab": {},
    "colab_type": "code",
    "id": "kdfW4EK-_CN4"
   },
   "outputs": [],
   "source": [
    "#Set Receivving Ports\n",
    "model.PO_R = Set(initialize = rec_ports, doc = 'Receiving Ports')"
   ]
  },
  {
   "cell_type": "markdown",
   "metadata": {
    "colab_type": "text",
    "id": "kCL-Qe_9VJF1"
   },
   "source": [
    "### **Parameters**"
   ]
  },
  {
   "cell_type": "markdown",
   "metadata": {
    "colab_type": "text",
    "id": "IJaD5DJ2iywX"
   },
   "source": [
    "##### **Parameter** - **Rail Cost**\n",
    "Contains per tonn cost of transporting goods between nodes via. railways."
   ]
  },
  {
   "cell_type": "code",
   "execution_count": 60,
   "metadata": {
    "colab": {},
    "colab_type": "code",
    "id": "UVAT1BKNWiIY"
   },
   "outputs": [],
   "source": [
    "#Rail Transportation cost between all supply locations\n",
    "##Per tonn Cost of transporting via rail from Mills to EPAs\n",
    "model.rail_cost_m_e = Param(model.M,model.E,initialize = rail_cost_m_e)\n",
    "##Per tonn Cost of transporting via rail from EPAs to Stokyards\n",
    "model.rail_cost_e_s = Param(model.E,model.S,initialize = rail_cost_e_s)\n",
    "##Per tonn Cost of transporting via rail from Stockyards to Stockyards\n",
    "model.rail_cost_s_s = Param(model.S,model.S,initialize = rail_cost_s_s)"
   ]
  },
  {
   "cell_type": "markdown",
   "metadata": {
    "colab_type": "text",
    "id": "TP42y2nUr5Bn"
   },
   "source": [
    "##### **Parameter** - **Road Cost**\n",
    "Contains per tonn cost of transporting goods between nodes via roadways."
   ]
  },
  {
   "cell_type": "code",
   "execution_count": 61,
   "metadata": {
    "colab": {},
    "colab_type": "code",
    "id": "PdVyC1W_XLVr"
   },
   "outputs": [],
   "source": [
    "#Road transportation cost\n",
    "##Per tonn Cost of transporting via road from Mills to EPAs\n",
    "model.road_cost_m_e  = Param(model.M, model.E,initialize = road_cost_m_e)\n",
    "##Per tonn Cost of transporting via road from EPAs to Stokyards\n",
    "model.road_cost_e_s  = Param(model.E, model.S,initialize = road_cost_e_s)\n",
    "##Per tonn Cost of transporting via road from EPAs to Customers\n",
    "model.road_cost_e_c  = Param(model.E, model.C,initialize = road_cost_e_c)\n",
    "##Per tonn Cost of transporting via road from Stockyards to Stockyards\n",
    "model.road_cost_s_s  = Param(model.S, model.S,initialize = road_cost_s_s)\n",
    "##Per tonn Cost of transporting via road from Stockyards to Customers\n",
    "model.road_cost_s_c  = Param(model.S, model.C,initialize = road_cost_s_c)"
   ]
  },
  {
   "cell_type": "markdown",
   "metadata": {
    "colab_type": "text",
    "id": "IHd2TPH2sONr"
   },
   "source": [
    "##### **Parameter** - **Coastal Cost**\n",
    "Contains per tonn cost of transporting goods between nodes via waterways."
   ]
  },
  {
   "cell_type": "code",
   "execution_count": 62,
   "metadata": {
    "colab": {},
    "colab_type": "code",
    "id": "wgL0u_PmX3vx"
   },
   "outputs": [],
   "source": [
    "#Coastal transportation cost\n",
    "##Per tonn Cost of transporting via waterways from EPAs to Dispatch Ports\n",
    "model.e_port_cost = Param(model.E,model.PO_D,initialize = e_port_cost)\n",
    "##Per tonn Cost of transporting via waterways from Stockyards to Dispatch Ports\n",
    "model.s_port_cost = Param(model.S,model.PO_D,initialize = s_port_cost)\n",
    "##Per tonn Cost of transporting via waterways from Dispatch Ports to Receiving Ports\n",
    "model.port_port_cost= Param(model.PO_D,model.PO_R,initialize = port_to_port_cost)\n",
    "##Per tonn Cost of transporting via waterways from Receiving Ports to customers\n",
    "model.port_cust_cost= Param(model.PO_R,model.C,initialize = port_to_cust_cost)"
   ]
  },
  {
   "cell_type": "markdown",
   "metadata": {
    "colab_type": "text",
    "id": "Klqp7rMStIiH"
   },
   "source": [
    "##### **Parameter** - **Ports Handling costs**\n",
    "Contains per tonn cost of Handling goods at ports.\n"
   ]
  },
  {
   "cell_type": "code",
   "execution_count": 63,
   "metadata": {
    "colab": {},
    "colab_type": "code",
    "id": "DMEPgsMNYSU8"
   },
   "outputs": [],
   "source": [
    "#Ports variable handling cost at Dispatch Ports\n",
    "model.disp_port_hndlng_cost = Param(model.PO_D,initialize = disp_ports_hndlng_cost)\n",
    "#Ports variable handling cost at Dispatch Ports\n",
    "model.rec_port_hndlng_cost = Param(model.PO_R,initialize = rec_port_hndlng_cost)"
   ]
  },
  {
   "cell_type": "markdown",
   "metadata": {
    "colab_type": "text",
    "id": "trj8kKUQRd8L"
   },
   "source": [
    "##### **Parameter** - **EPA Conversion costs**\n",
    "Contains per tonn cost of Converting model.IM to model.I, at each EPA.\n"
   ]
  },
  {
   "cell_type": "code",
   "execution_count": 64,
   "metadata": {
    "colab": {},
    "colab_type": "code",
    "id": "Albc9kMLYmmj"
   },
   "outputs": [],
   "source": [
    "#EPA Conversion costs\n",
    "model.epa_conversn_cost = Param(model.E,model.I, initialize = e_cnvrsn_cost)"
   ]
  },
  {
   "cell_type": "markdown",
   "metadata": {
    "colab_type": "text",
    "id": "0R9ltY9TRq0l"
   },
   "source": [
    "##### **Parameter** - **EPA Variable Handling costs**\n",
    "Contains per tonn cost of Handling goods at EPAs."
   ]
  },
  {
   "cell_type": "code",
   "execution_count": 65,
   "metadata": {
    "colab": {},
    "colab_type": "code",
    "id": "0r863zFUY7dW"
   },
   "outputs": [],
   "source": [
    "#EPA Variable Handling costs for road\n",
    "model.epa_hndlng_vc_road = Param(model.E, initialize = epa_hndlng_vc_road)"
   ]
  },
  {
   "cell_type": "code",
   "execution_count": 66,
   "metadata": {
    "colab": {},
    "colab_type": "code",
    "id": "D9fv0mLHZJ9v"
   },
   "outputs": [],
   "source": [
    "#EPA fixed Handling costs for road\n",
    "model.epa_hndlng_fc_road = Param(model.E,initialize = epa_hndlng_fc_road)"
   ]
  },
  {
   "cell_type": "code",
   "execution_count": 67,
   "metadata": {
    "colab": {},
    "colab_type": "code",
    "id": "0IE0B3RzaTaz"
   },
   "outputs": [],
   "source": [
    "#EPA fixed Handling costs for rail\n",
    "model.epa_hndlng_fc_rail = Param(model.E,initialize = epa_hndlng_fc_rail)"
   ]
  },
  {
   "cell_type": "code",
   "execution_count": 68,
   "metadata": {
    "colab": {},
    "colab_type": "code",
    "id": "wg48LPwUaGUJ"
   },
   "outputs": [],
   "source": [
    "#EPA Variable Handling costs for rail\n",
    "model.epa_hndlng_vc_rail = Param(model.E,initialize = epa_hndlng_vc_rail)"
   ]
  },
  {
   "cell_type": "markdown",
   "metadata": {},
   "source": [
    "##### **Parameter** - **SYD Variable Handling costs**\n",
    "Contains per tonn cost of Handling goods at Stockyards.\n"
   ]
  },
  {
   "cell_type": "code",
   "execution_count": 69,
   "metadata": {
    "colab": {},
    "colab_type": "code",
    "id": "JGnWtk4bZTQ7"
   },
   "outputs": [],
   "source": [
    "#SYD Variable Handling costs for road\n",
    "model.syd_hndlng_vc_road = Param(model.S,initialize = syd_hndlng_vc_road)"
   ]
  },
  {
   "cell_type": "code",
   "execution_count": 70,
   "metadata": {
    "colab": {},
    "colab_type": "code",
    "id": "-jUy_pafZzAo"
   },
   "outputs": [],
   "source": [
    "#SYD fixed Handling costs for road\n",
    "model.syd_hndlng_fc_road = Param(model.S,initialize = syd_hndlng_fc_road)"
   ]
  },
  {
   "cell_type": "code",
   "execution_count": 71,
   "metadata": {
    "colab": {},
    "colab_type": "code",
    "id": "U9OICH7DagVD"
   },
   "outputs": [],
   "source": [
    "#SYD variable Handling costs for rail\n",
    "model.syd_hndlng_vc_rail = Param(model.S,initialize = syd_hndlng_vc_rail)"
   ]
  },
  {
   "cell_type": "code",
   "execution_count": 72,
   "metadata": {
    "colab": {},
    "colab_type": "code",
    "id": "GOjZpPScaqnu"
   },
   "outputs": [],
   "source": [
    "#SYD fixed Handling costs for rail\n",
    "model.syd_hndlng_fc_rail = Param(model.S,initialize = syd_hndlng_fc_rail)"
   ]
  },
  {
   "cell_type": "code",
   "execution_count": 73,
   "metadata": {
    "colab": {},
    "colab_type": "code",
    "id": "frNJPDQWa9PS"
   },
   "outputs": [],
   "source": [
    "#SYD sliding costs\n",
    "model.syd_sldng_cost = Param(model.S,initialize = syd_sldng_cost)"
   ]
  },
  {
   "cell_type": "markdown",
   "metadata": {
    "colab_type": "text",
    "id": "b9Oq_NxPoJ5i"
   },
   "source": [
    "##### **Parameter** - **Customer Demand**\n",
    "Contains productwise demand at each customer node "
   ]
  },
  {
   "cell_type": "code",
   "execution_count": 74,
   "metadata": {
    "colab": {},
    "colab_type": "code",
    "id": "StIUxy6koIwI"
   },
   "outputs": [],
   "source": [
    "#Customer demand\n",
    "model.demand = Param(model.C, model.I, initialize = demand)"
   ]
  },
  {
   "cell_type": "markdown",
   "metadata": {
    "colab_type": "text",
    "id": "3vUqQqcaorH_"
   },
   "source": [
    "##### **Parameter** - **EPA Supply**\n",
    "Contains productwise supply from each EPA"
   ]
  },
  {
   "cell_type": "code",
   "execution_count": 75,
   "metadata": {
    "colab": {},
    "colab_type": "code",
    "id": "YM0nnG3dor5z"
   },
   "outputs": [],
   "source": [
    "#EPA Supply\n",
    "model.supply_epa = Param(model.E, model.I, initialize = supply_epa)"
   ]
  },
  {
   "cell_type": "markdown",
   "metadata": {
    "colab_type": "text",
    "id": "8Vi9VdOipD8V"
   },
   "source": [
    "##### **Parameter** - **Mills Supply**\n",
    "Contains productwise supply from each Mill"
   ]
  },
  {
   "cell_type": "code",
   "execution_count": 76,
   "metadata": {
    "colab": {},
    "colab_type": "code",
    "id": "TZmkwWCApT1f"
   },
   "outputs": [],
   "source": [
    "#Mills Supply\n",
    "model.supply_m = Param(model.M, model.IM, initialize = supply_mills)"
   ]
  },
  {
   "cell_type": "markdown",
   "metadata": {
    "colab_type": "text",
    "id": "kZZ8TVh3qFGR"
   },
   "source": [
    "##### **Parameter** - **Ports Handling Capacity**\n",
    "Contains min and max port handling capacities"
   ]
  },
  {
   "cell_type": "code",
   "execution_count": 77,
   "metadata": {
    "colab": {},
    "colab_type": "code",
    "id": "ffJNINIvqFqO"
   },
   "outputs": [],
   "source": [
    "#Dispactch ports min and max capacities\n",
    "model.disp_port_min_cap = Param(model.PO_D, initialize = disp_port_min_cap)\n",
    "model.disp_port_max_cap = Param(model.PO_D, initialize = disp_port_max_cap)\n",
    "#Receiving ports min and max capacities\n",
    "model.rec_port_min_cap = Param(model.PO_R, initialize = rec_port_min_cap)\n",
    "model.rec_port_max_cap = Param(model.PO_R, initialize = rec_port_min_cap)"
   ]
  },
  {
   "cell_type": "markdown",
   "metadata": {
    "colab_type": "text",
    "id": "0rTI9op5qGNk"
   },
   "source": [
    "##### **Parameter** - **EPA Handling Capacity**\n",
    "Contains total and rail handling capacities for EPA"
   ]
  },
  {
   "cell_type": "code",
   "execution_count": 78,
   "metadata": {
    "colab": {},
    "colab_type": "code",
    "id": "onag0BrLqG37"
   },
   "outputs": [],
   "source": [
    "#Total and rail handling capacity for EPA\n",
    "model.epa_disp_cap = Param(model.E, initialize = epa_disp_cap)\n",
    "model.epa_rail_disp_cap = Param(model.E, initialize = epa_rail_disp_cap)"
   ]
  },
  {
   "cell_type": "markdown",
   "metadata": {
    "colab_type": "text",
    "id": "PPZHngbDqHT3"
   },
   "source": [
    "##### **Parameter** - **Stockyard Handling Capacity**\n",
    "Contains total and rail handling capacities for Stockyard"
   ]
  },
  {
   "cell_type": "code",
   "execution_count": 79,
   "metadata": {
    "colab": {},
    "colab_type": "code",
    "id": "5aXWLJx6qIBe"
   },
   "outputs": [],
   "source": [
    "#Total and rail handling capacity for stockyard\n",
    "model.syd_total_thput = Param(model.S, initialize = syd_total_thput)\n",
    "model.syd_rail_thput = Param(model.S, initialize = syd_rail_thput)"
   ]
  },
  {
   "cell_type": "markdown",
   "metadata": {
    "colab_type": "text",
    "id": "vcGW69c7qIn4"
   },
   "source": [
    "##### **Parameter** - **Direct and SLA Shipment**\n",
    "Contains product catagory wise Direct and SLA shipment percentages for each customer node"
   ]
  },
  {
   "cell_type": "code",
   "execution_count": 80,
   "metadata": {
    "colab": {},
    "colab_type": "code",
    "id": "fNNKTAvDqJyI"
   },
   "outputs": [],
   "source": [
    "#Direct Shipment Percentages\n",
    "model.direct_ship_long = Param(model.C, initialize = direct_ship_long)\n",
    "model.direct_ship_flat = Param(model.C, initialize = direct_ship_flat)\n",
    "#Sla Shipment Percentages\n",
    "model.sla_ship_long = Param(model.C, initialize = sla_ship_long)\n",
    "model.sla_ship_flat = Param(model.C, initialize = sla_ship_flat)"
   ]
  },
  {
   "cell_type": "markdown",
   "metadata": {
    "colab_type": "text",
    "id": "Un_nAczmwLOg"
   },
   "source": [
    "##### **Parameter** - **Type to Form**\n",
    "Contains type to form conversion rules"
   ]
  },
  {
   "cell_type": "code",
   "execution_count": 81,
   "metadata": {
    "colab": {},
    "colab_type": "code",
    "id": "rknbyXnewL4O"
   },
   "outputs": [],
   "source": [
    "# Type to Form\n",
    "model.t2f = Param(model.I, model.IM, initialize = t2f)"
   ]
  },
  {
   "cell_type": "markdown",
   "metadata": {
    "colab_type": "text",
    "id": "F8afe8Qy1fjW"
   },
   "source": [
    "### **Variables**"
   ]
  },
  {
   "cell_type": "markdown",
   "metadata": {
    "colab_type": "text",
    "id": "9PH7BGYZIrhV"
   },
   "source": [
    "##### **Road Transport Variables**"
   ]
  },
  {
   "cell_type": "code",
   "execution_count": 82,
   "metadata": {
    "colab": {},
    "colab_type": "code",
    "id": "DOqyBk12xire"
   },
   "outputs": [],
   "source": [
    "#road transport variables\n",
    "##Road transport variable for Mills and EPAs pair\n",
    "model.x_m_e = Var(model.M,model.E,model.IM, initialize = 0, within = NonNegativeReals,\\\n",
    "                  doc = 'transport quantity from mills to epa via road')\n",
    "##Road transport variable for EPAs and Stockyards pair\n",
    "model.x_e_s = Var(model.E,model.S,model.I, initialize = 0, within = NonNegativeReals,\\\n",
    "                  doc = 'transport quantity from epa to stockyard via road')\n",
    "##Road transport variable for EPAs and Customers pair\n",
    "model.x_e_c = Var(model.E,model.C,model.I, initialize = 0, within = NonNegativeReals,\\\n",
    "                  doc = 'transport quantity from epa to customers via road')\n",
    "##Road transport variable for Stockyards and Stockyards pair\n",
    "model.x_s_s = Var(model.S,model.S,model.I, initialize = 0, within = NonNegativeReals, \\\n",
    "                  doc = 'transport quantity from stockyards to stockyards via road')\n",
    "##Road transport variable for Stockyards and Customers pair\n",
    "model.x_s_c = Var(model.S,model.C,model.I, initialize = 0, within = NonNegativeReals, \\\n",
    "                  doc = 'transport quantity from stockyards to customers via road')"
   ]
  },
  {
   "cell_type": "markdown",
   "metadata": {
    "colab_type": "text",
    "id": "q60dDD7vJRwi"
   },
   "source": [
    "##### **Rail Transport Variables**"
   ]
  },
  {
   "cell_type": "code",
   "execution_count": 83,
   "metadata": {
    "colab": {},
    "colab_type": "code",
    "id": "tu9_lVvdxirl"
   },
   "outputs": [],
   "source": [
    "#rail transport variables\n",
    "##Rail transport variable for Mills and EPAs pair\n",
    "model.y_m_e = Var(model.M,model.E,model.IM, initialize = 0, within = NonNegativeReals, \\\n",
    "                  doc = 'transport quantity from mills to epa via rail')\n",
    "##Rail transport variable for EPAs and Stockyards pair\n",
    "model.y_e_s = Var(model.E,model.S,model.I, initialize = 0, within =NonNegativeReals, \\\n",
    "                  doc = 'transport quantity from epa to stockyards via rail')\n",
    "##Rail transport variable for Stockyards and Stockyards pair\n",
    "model.y_s_s = Var(model.S,model.S,model.I, initialize = 0, within = NonNegativeReals, \\\n",
    "                  doc = 'transport quantity from stockyards to stockyards via rail')"
   ]
  },
  {
   "cell_type": "markdown",
   "metadata": {
    "colab_type": "text",
    "id": "p7vtXxgPKapp"
   },
   "source": [
    "##### **Coastal Transport Variables**"
   ]
  },
  {
   "cell_type": "code",
   "execution_count": 84,
   "metadata": {
    "colab": {},
    "colab_type": "code",
    "id": "T5ObZFKyxiry"
   },
   "outputs": [],
   "source": [
    "#port transport variables\n",
    "##Coastal transport variable for EPAs and Dispatch ports pair\n",
    "model.z_e_po = Var(model.E, model.PO_D, model.I, initialize = 0, within = NonNegativeReals,\\\n",
    "                   doc = 'transport quantity from EPA to Port via road')\n",
    "##Coastal transport variable for Stockyards and Dispatch ports pair\n",
    "model.z_s_po = Var(model.S, model.PO_D, model.I, initialize = 0,within = NonNegativeReals,\\\n",
    "                   doc = 'transport quantity from SYD to Port via road')\n",
    "##Coastal transport variable for Dispatch ports and Receiving ports pair\n",
    "model.z_po_po= Var(model.PO_D, model.PO_R, model.I, initialize = 0,within = NonNegativeReals,\\\n",
    "                   doc = 'transport quantity from PORT to PORT via coast')\n",
    "##Coastal transport variable for Receiving ports and customers pair\n",
    "model.z_po_c = Var(model.PO_R,model.C,model.I, initialize = 0,within = NonNegativeReals,\\\n",
    "                   doc = 'transport quantity from port to customers via coast')"
   ]
  },
  {
   "cell_type": "markdown",
   "metadata": {
    "colab_type": "text",
    "id": "5wEhrbC_vNIT"
   },
   "source": [
    "##### ***Selection Variables***"
   ]
  },
  {
   "cell_type": "code",
   "execution_count": 85,
   "metadata": {
    "colab": {},
    "colab_type": "code",
    "id": "0nntfF-LvRrt"
   },
   "outputs": [],
   "source": [
    "#EPA Selection Variable\n",
    "model.p_e_select = Var(model.E, within = Binary, initialize = 0,doc = 'EPA Selection Variable')\n",
    "#Stockyard Selection Variable\n",
    "model.p_s_select = Var(model.S, within = Binary, initialize = 0, doc= 'Stockyard Selection Variable')"
   ]
  },
  {
   "cell_type": "markdown",
   "metadata": {
    "colab_type": "text",
    "id": "a2ON8CGXkAUm"
   },
   "source": [
    "### **Objective Function**"
   ]
  },
  {
   "cell_type": "code",
   "execution_count": 86,
   "metadata": {
    "colab": {},
    "colab_type": "code",
    "id": "iLnD-kPjbFPx"
   },
   "outputs": [],
   "source": [
    "def obj_rule(model):\n",
    "      return sum(model.rail_cost_m_e[i,j] * sum(model.y_m_e[i,j,k] for k in model.IM) for i in model.M for j in model.E)+\\\n",
    "      sum(model.road_cost_m_e[i,j] * sum(model.x_m_e[i,j,k] for k in model.IM) for i in model.M for j in model.E)+\\\n",
    "      sum(model.rail_cost_e_s[i,j] * sum(model.y_e_s[i,j,k] for k in model.I) for i in model.E for j in model.S) +\\\n",
    "      sum(model.road_cost_e_s[i,j] * sum(model.x_e_s[i,j,k] for k in model.I) for i in model.E for j in model.S)+\\\n",
    "      sum(model.rail_cost_s_s[i,j] * sum(model.y_s_s[i,j,k] for k in model.I)for i in model.S for j in model.S)+\\\n",
    "      sum(model.road_cost_s_s[i,j] * sum(model.x_s_s[i,j,k] for k in model.I)for i in model.S for j in model.S)+\\\n",
    "      sum(model.road_cost_e_c[i,j] * sum(model.x_e_c[i,j,k] for k in model.I) for i in model.E for j in model.C)+\\\n",
    "      sum(model.road_cost_s_c[i,j] * sum(model.x_s_c[i,j,k] for k in model.I) for i in model.S for j in model.C)+\\\n",
    "      sum(model.e_port_cost[i,j] * sum(model.z_e_po[i,j,k] for k in model.I) for i in model.E for j in model.PO_D)+\\\n",
    "      sum(model.s_port_cost[i,j] * sum(model.z_s_po[i,j,k] for k in model.I) for i in model.S for j in model.PO_D)+\\\n",
    "      sum(model.port_port_cost[i,j] * sum(model.z_po_po[i,j,k] for k in model.I)for i in model.PO_D for j in model.PO_R)+\\\n",
    "      sum(model.port_cust_cost[i,j] * sum(model.z_po_c[i,j,k] for k in model.I)for i in model.PO_R for j in model.C)+\\\n",
    "      sum(model.epa_hndlng_vc_rail[i] * (sum(model.y_e_s[i,s,k] for k in model.I for s in model.S))for i in model.E)+\\\n",
    "      sum(model.epa_hndlng_fc_rail[i] * model.p_e_select[i] for i in model.E)+\\\n",
    "      sum(model.epa_hndlng_vc_road[i] * (sum(model.x_e_c[i,c,k] for c in model.C for k in model.I) +\\\n",
    "                                         sum(model.z_e_po[i,j,k] for j in model.PO_D for k in model.I)+\\\n",
    "                                         sum(model.x_e_s[i,s,k] for s in model.S for k in model.I))for i in model.E)+\\\n",
    "      sum(model.epa_hndlng_fc_road[i] * model.p_e_select[i] for i in model.E)+\\\n",
    "      sum(model.syd_hndlng_vc_rail[i] * (sum(model.y_e_s[e,i,k] for e in model.E for k in model.I)\\\n",
    "                                         + sum(model.y_s_s[s,i,k] for s in model.S for k in model.I)) for i in model.S)+\\\n",
    "      sum(model.syd_hndlng_fc_rail[i] * model.p_s_select[i] for i in model.S)+\\\n",
    "      sum(model.syd_hndlng_vc_road[i] * (sum(model.x_e_s[e,i,k] for e in model.E for k in model.I))for i in model.S)+\\\n",
    "      sum(model.syd_hndlng_fc_road[i] * model.p_s_select[i] for i in model.S)+\\\n",
    "      sum(model.syd_sldng_cost[i] * (sum(model.x_e_s[e,i,k] for e in model.E for k in model.I)+\\\n",
    "                                     sum(model.y_e_s[e,i,k] for e in model.E for k in model.I))\\\n",
    "          for i in model.S)+\\\n",
    "      sum(model.disp_port_hndlng_cost[i] * (sum(model.z_e_po[e,i,k] for e in model.E for k in model.I)+\\\n",
    "                                            sum(model.z_s_po[s,i,k] for s in model.S for k in model.I))\\\n",
    "          for i in model.PO_D)+\\\n",
    "      sum(model.rec_port_hndlng_cost[i] * sum(model.z_po_c[i,c,k] for c in model.C for k in model.I) for i in model.PO_R)+\\\n",
    "      sum(model.epa_conversn_cost[i,k] * (sum(model.x_e_s[i,s,k] for s in model.S )+\\\n",
    "                                          sum(model.y_e_s[i,s,k] for s in model.S )+\\\n",
    "                                          sum(model.x_e_c[i,c,k] for c in model.C )+\\\n",
    "                                          sum(model.z_e_po[i,j,k] for j in model.PO_D ))\\\n",
    "          for i in model.E for k in model.I)+\\\n",
    "      (sum((model.demand[i,k]-(((sum(model.x_s_c[s,i,k] for s in model.S)+\\\n",
    "                                sum(model.z_s_po[s,j,k]for s,j in zip(model.S,model.PO_D)))*\\\n",
    "                               model.sla_ship_flat[i])+\\\n",
    "                              ((sum(model.x_e_c[e,i,k] for e in model.E)+\\\n",
    "                                sum(model.z_e_po[e,j,k]for e,j in zip(model.E,model.PO_D)))*\\\n",
    "                               model.direct_ship_flat[i]))) for i,k in zip(model.C,model.I)))*9999999999\\\n",
    "        *model.penalty_selection"
   ]
  },
  {
   "cell_type": "code",
   "execution_count": 87,
   "metadata": {},
   "outputs": [
    {
     "name": "stdin",
     "output_type": "stream",
     "text": [
      "Enter your choice (in binary):  1\n"
     ]
    }
   ],
   "source": [
    "# Demand Penalty Choice Option\n",
    "## Select 1 if you wish to include unmet demand penalty\n",
    "## Select 0 otherwise\n",
    "p =int(input(\"Enter your choice (in binary): \"))\n",
    "model.penalty_selection = p"
   ]
  },
  {
   "cell_type": "code",
   "execution_count": 88,
   "metadata": {
    "colab": {},
    "colab_type": "code",
    "id": "SjMiDZpSoTG4"
   },
   "outputs": [],
   "source": [
    "model.obj = Objective(rule = obj_rule, sense = minimize)"
   ]
  },
  {
   "cell_type": "markdown",
   "metadata": {
    "colab_type": "text",
    "id": "CzAeL9iLpJE1"
   },
   "source": [
    "### **Constraints**"
   ]
  },
  {
   "cell_type": "markdown",
   "metadata": {
    "colab_type": "text",
    "id": "MF3GsWQknd9a"
   },
   "source": [
    "##### **Customer Demand** Constraint"
   ]
  },
  {
   "cell_type": "code",
   "execution_count": 89,
   "metadata": {
    "colab": {},
    "colab_type": "code",
    "id": "9F1-h9VLxism"
   },
   "outputs": [],
   "source": [
    "model.demand_constraint = ConstraintList()\n",
    "## For each customer 'i', sum(flat product supplied 'k' from epa 'e' * direct shipment percentage) + \\\n",
    "## sum(flat product supplied 'k' from non manufacturing epa, stockyard and ports * sla shipment percentage)\\\n",
    "## >= (demand of product 'k' at customer node 'i')\n",
    "for i in model.C:\n",
    "  for k in model.FP:\n",
    "    model.demand_constraint.add(expr=((sum(model.x_s_c[s,i,k] for s in model.S) +\\\n",
    "                                       sum(model.z_s_po[s,j,k]for s,j in zip(model.S,model.PO_D)))*\\\n",
    "                                       model.sla_ship_flat[i]) +\\\n",
    "                                     ((sum(model.x_e_c[e,i,k] for e in model.E)+\\\n",
    "                                       sum(model.z_e_po[e,j,k]for e,j in zip(model.E,model.PO_D)))*\\\n",
    "                                       model.direct_ship_flat[i])\\\n",
    "                                == model.demand[i,k])"
   ]
  },
  {
   "cell_type": "code",
   "execution_count": 90,
   "metadata": {
    "colab": {},
    "colab_type": "code",
    "id": "p0AUPjkz7CfB"
   },
   "outputs": [],
   "source": [
    "## For each customer 'i', sum(long product supplied 'k' from epa 'e' * direct shipment percentage) + \\\n",
    "## sum(long product supplied 'k' from non manufacturing epa, stockyard and ports * sla shipment percentage)\\\n",
    "## >= (demand of product 'k' at customer node 'i')\n",
    "for i in model.C:\n",
    "  for k in model.LP:\n",
    "    model.demand_constraint.add(expr=((sum(model.x_s_c[s,i,k] for s in model.S) +\\\n",
    "                                       sum(model.z_s_po[s,j,k]for s,j in zip(model.S,model.PO_D)))*\\\n",
    "                                       model.sla_ship_flat[i]) +\\\n",
    "                                     ((sum(model.x_e_c[e,i,k] for e in model.E)+\\\n",
    "                                       sum(model.z_e_po[e,j,k]for e,j in zip(model.E,model.PO_D)))*\\\n",
    "                                       model.direct_ship_flat[i])\\\n",
    "                                == model.demand[i,k])"
   ]
  },
  {
   "cell_type": "markdown",
   "metadata": {
    "colab_type": "text",
    "id": "bLB0ysSDp1dk"
   },
   "source": [
    "#####  **Mills Supply Capacity** Constraint"
   ]
  },
  {
   "cell_type": "code",
   "execution_count": 91,
   "metadata": {
    "colab": {},
    "colab_type": "code",
    "id": "bFdaQVVexisH"
   },
   "outputs": [],
   "source": [
    "model.m_supply_constraint = ConstraintList()\n",
    "## For each mill, 'i', sum of all the product supplied, say product 'k', must be less than supply_mills\n",
    "for i in model.M:\n",
    "    for l in model.IM:\n",
    "        model.m_supply_constraint.add(expr=(sum(model.x_m_e[i,e,l]for e in model.E)+\\\n",
    "                                            sum(model.y_m_e[i,e,l] for e in model.E))\\\n",
    "                                      <= model.supply_m[i,l])"
   ]
  },
  {
   "cell_type": "markdown",
   "metadata": {
    "colab_type": "text",
    "id": "7TeAk7skimLZ"
   },
   "source": [
    "##### **EPA Product Flow** Constraint"
   ]
  },
  {
   "cell_type": "code",
   "execution_count": 92,
   "metadata": {
    "colab": {},
    "colab_type": "code",
    "id": "FBz4p-d7-o5y"
   },
   "outputs": [],
   "source": [
    "model.epa_flow_constraint = ConstraintList()\n",
    "## For each EPA 'i'. sum of (product 'k' supplied from the epa 'i' * type to form conversion param[k,l])\\\n",
    "## == sum of (supply product 'l' from mills)\n",
    "for i in model.E:\n",
    "  for l in model.IM:\n",
    "    model.epa_flow_constraint.add(expr =\\\n",
    "                                  sum(model.x_e_c[i,c,k]*model.t2f[k,l]for k in model.I for c in model.C) +\\\n",
    "                                  sum(model.x_e_s[i,s,k]* model.t2f[k,l]for s in model.S for k in model.I)+\\\n",
    "                                  sum(model.y_e_s[i,s,k]* model.t2f[k,l]for s in model.S for k in model.I) +\\\n",
    "                                  sum(model.z_e_po[i,j,k]* model.t2f[k,l]for j in model.PO_D for k in model.I) ==\\\n",
    "                                  sum(model.x_m_e[m,i,l] for m in model.M) + sum(model.y_m_e[m,i,l] for m in model.M))"
   ]
  },
  {
   "cell_type": "markdown",
   "metadata": {
    "colab_type": "text",
    "id": "3AxxTLZkqAhf"
   },
   "source": [
    "##### **EPA Supply Capacity** Constraint"
   ]
  },
  {
   "cell_type": "code",
   "execution_count": 93,
   "metadata": {
    "colab": {},
    "colab_type": "code",
    "id": "kMTAZuf3hhvL"
   },
   "outputs": [],
   "source": [
    "model.epa_capacity_constraint = ConstraintList()\n",
    "## For each EPA 'i'. sum of (product 'k' supplied from epa 'i') \n",
    "## <= (supply capacity of product 'k' at EPA 'i' * EPA selcetion Variable)\n",
    "for i in model.E:\n",
    "  for k in model.I:\n",
    "    model.epa_capacity_constraint.add(expr = \\\n",
    "                                      sum(model.x_e_c[i,c,k]*model.t2f[k,l]for k in model.I for c in model.C)+\\\n",
    "                                      sum(model.x_e_s[i,s,k]* model.t2f[k,l]for s in model.S for k in model.I)+\\\n",
    "                                      sum(model.y_e_s[i,s,k]* model.t2f[k,l]for s in model.S for k in model.I) +\\\n",
    "                                      sum(model.z_e_po[i,j,k]* model.t2f[k,l]for j in model.PO_D for k in model.I)\\\n",
    "                                      <= model.supply_epa[i,k] * model.p_e_select[i])"
   ]
  },
  {
   "cell_type": "markdown",
   "metadata": {
    "colab_type": "text",
    "id": "cK7rUxbrjT0W"
   },
   "source": [
    "##### **Stockyard Product Flow** Constraint"
   ]
  },
  {
   "cell_type": "code",
   "execution_count": 94,
   "metadata": {
    "colab": {},
    "colab_type": "code",
    "id": "i_s8amB1xisU"
   },
   "outputs": [],
   "source": [
    "model.supply_syd_constraint = ConstraintList()\n",
    "## For each Stockyard, 'i', sum(product 'k' supplied from the stockyard 'i') \n",
    "## == sum(product 'k' received at the stockyard 'i')\n",
    "for i in model.S:\n",
    "    for k in model.I:\n",
    "        model.supply_syd_constraint.add(expr=\\\n",
    "                                        (sum(model.x_e_s[e,i,k]for e in model.E)+\\\n",
    "                                         sum(model.y_e_s[e,i,k]for e in model.E)+\\\n",
    "                                         sum(model.x_s_s[s,i,k]for s in model.S)+\\\n",
    "                                         sum(model.y_s_s[s,i,k]for s in model.S))==\\\n",
    "                                        (sum(model.z_s_po[i,j,k]for j in model.PO_D)+\\\n",
    "                                          sum(model.x_s_s[i,s,k]for s in model.S)+\\\n",
    "                                          sum(model.y_s_s[i,s,k]for s in model.S)+\\\n",
    "                                          sum(model.x_s_c[i,c,k] for c in model.C)))"
   ]
  },
  {
   "cell_type": "markdown",
   "metadata": {
    "colab_type": "text",
    "id": "RQTD0hEAjX2d"
   },
   "source": [
    "##### **Stockyard Supply Capacity** Constraint"
   ]
  },
  {
   "cell_type": "code",
   "execution_count": 95,
   "metadata": {
    "colab": {},
    "colab_type": "code",
    "id": "icER-bx1xisj"
   },
   "outputs": [],
   "source": [
    "model.syd_capacity_constraint = ConstraintList()\n",
    "## For each Stockyard 'i'. sum(product supplied 'k')<= (Handling capacity of product 'k' at stockyard 'i')\n",
    "for i in model.S:\n",
    "  model.syd_capacity_constraint.add(expr=\\\n",
    "                                    (sum(model.z_s_po[i,j,k] for j in model.PO_D)+\\\n",
    "                                     sum(model.x_s_s[i,s,k] for s in model.S)+\\\n",
    "                                     sum(model.y_s_s[i,s,k]for s in model.S)+\\\n",
    "                                     sum(model.x_s_c[i,c,k] for c in model.C))\\\n",
    "                                    <= model.syd_total_thput[i] *model.p_s_select[i])\n",
    "  model.syd_capacity_constraint.add(expr=\\\n",
    "                                    sum(model.y_s_s[i,s,k] for s in model.S for k in model.I)\\\n",
    "                                    <= model.syd_rail_thput[i] * model.p_s_select[i])"
   ]
  },
  {
   "cell_type": "markdown",
   "metadata": {
    "colab_type": "text",
    "id": "pjX58Hy45Kwk"
   },
   "source": [
    "##### **Port Product Flow** Constraint"
   ]
  },
  {
   "cell_type": "code",
   "execution_count": 96,
   "metadata": {
    "colab": {},
    "colab_type": "code",
    "id": "C6vkF6Gp5LaK"
   },
   "outputs": [],
   "source": [
    "model.port_flow_constraint = ConstraintList()\n",
    "## for each dispatch port 'i', sum(product 'k' supplied from the dispatch port 'i') \\\n",
    "## == sum(product 'k' received at the dispatch port 'i')\n",
    "for i in model.PO_D:\n",
    "  for k in model.I:\n",
    "    model.port_flow_constraint.add(expr=\\\n",
    "                                   (sum(model.z_e_po[e,i,k] for e in model.E)+\\\n",
    "                                    sum(model.z_s_po[s,i,k]for s in model.S)) == \\\n",
    "                                    sum(model.z_po_po[i,j,k]for j in model.PO_R))\n",
    "\n",
    "## for each receiving port 'i', sum(product 'k' supplied from the receiving port 'i') \\\n",
    "## == sum(product 'k' received at the receiving port 'i')\n",
    "for i in model.PO_R:\n",
    "  for k in model.I:\n",
    "    model.port_flow_constraint.add(expr=\\\n",
    "                                   (sum(model.z_po_po[j,i,k]for j in model.PO_D))\\\n",
    "                                    == sum(model.z_po_c[i,c,k] for c in model.C))"
   ]
  },
  {
   "cell_type": "markdown",
   "metadata": {
    "colab_type": "text",
    "id": "ZPx6STddGKnu"
   },
   "source": [
    "##### **Port Handling Capacity** Constraint"
   ]
  },
  {
   "cell_type": "code",
   "execution_count": 97,
   "metadata": {
    "colab": {},
    "colab_type": "code",
    "id": "sqRF0RZiibKs"
   },
   "outputs": [],
   "source": [
    "model.disp_port_hndlng_cap = ConstraintList()\n",
    "## For each dispatch Port 'i'. sum of (product supplied 'k') \\\n",
    "## <= (Handling capacity of product 'k' at Port 'i')\n",
    "for i in model.PO_D:\n",
    "  model.disp_port_hndlng_cap.add(inequality(model.disp_port_min_cap[i],\\\n",
    "                                            sum(model.z_po_po[i,j,k] for j in model.PO_R for k in model.I),\\\n",
    "                                            model.disp_port_max_cap[i]))\n",
    "model.rec_port_hndlng_cap = ConstraintList()\n",
    "## For each receiving Port 'i'. sum of (product supplied 'k') \\\n",
    "## <= (Handling capacity of product 'k' at Port 'i')\n",
    "for i in model.PO_R:\n",
    "  model.rec_port_hndlng_cap.add(inequality(model.rec_port_min_cap[i],\\\n",
    "                                           sum(model.z_po_c[i,c,k]for c in model.C for k in model.I),\\\n",
    "                                           model.rec_port_max_cap[i]))"
   ]
  },
  {
   "cell_type": "markdown",
   "metadata": {
    "colab_type": "text",
    "id": "gNi59yfKqT4e"
   },
   "source": [
    "# **SOLUTION**"
   ]
  },
  {
   "cell_type": "code",
   "execution_count": 98,
   "metadata": {
    "colab": {},
    "colab_type": "code",
    "id": "CsFcKRuOmvle"
   },
   "outputs": [
    {
     "name": "stdout",
     "output_type": "stream",
     "text": [
      "# ==========================================================\n",
      "# = Solver Results                                         =\n",
      "# ==========================================================\n",
      "# ----------------------------------------------------------\n",
      "#   Problem Information\n",
      "# ----------------------------------------------------------\n",
      "Problem: \n",
      "- Name: unknown\n",
      "  Lower bound: 48216856557.9922\n",
      "  Upper bound: 48216856557.9922\n",
      "  Number of objectives: 1\n",
      "  Number of constraints: 25183\n",
      "  Number of variables: 3769225\n",
      "  Number of nonzeros: 9374007\n",
      "  Sense: minimize\n",
      "# ----------------------------------------------------------\n",
      "#   Solver Information\n",
      "# ----------------------------------------------------------\n",
      "Solver: \n",
      "- Status: ok\n",
      "  Termination condition: optimal\n",
      "  Statistics: \n",
      "    Branch and bound: \n",
      "      Number of bounded subproblems: 1\n",
      "      Number of created subproblems: 1\n",
      "  Error rc: 0\n",
      "  Time: 621.1929180622101\n",
      "# ----------------------------------------------------------\n",
      "#   Solution Information\n",
      "# ----------------------------------------------------------\n",
      "Solution: \n",
      "- number of solutions: 0\n",
      "  number of solutions displayed: 0\n"
     ]
    }
   ],
   "source": [
    "result_cost = SolverFactory('glpk').solve(model)\n",
    "result_cost.write()"
   ]
  },
  {
   "cell_type": "markdown",
   "metadata": {
    "colab_type": "text",
    "id": "l0xm-EYAg5G7"
   },
   "source": [
    "# **EXPORTING SOLUTION TO EXCEL**"
   ]
  },
  {
   "cell_type": "markdown",
   "metadata": {
    "colab_type": "text",
    "id": "g5bNcKRGhA51"
   },
   "source": [
    "##### Reading output variable values as list"
   ]
  },
  {
   "cell_type": "code",
   "execution_count": 99,
   "metadata": {
    "colab": {},
    "colab_type": "code",
    "id": "tKsmj8PUTWA1"
   },
   "outputs": [],
   "source": [
    "# Defining a function to read variable values into python lists\n",
    "## Inputs to the function are as follows-\n",
    "### frst_itr - first index of the variable(From)\n",
    "### scnd_itr - second index of the variable(To)\n",
    "### thrd_itr - third index of the variable(Products)\n",
    "def lst(frst_itr, scnd_itr,mode, thrd_itr, var):\n",
    "  p = []\n",
    "  for i in range(0,len(frst_itr)):\n",
    "    for j in range(0, len(scnd_itr)):\n",
    "      for k in range(0, len(thrd_itr)):\n",
    "        x = frst_itr[i]\n",
    "        y = scnd_itr[j]\n",
    "        z = thrd_itr[k]\n",
    "        if var[x,y,z] !=0:\n",
    "          p.append([x, y,mode, z , var[x,y,z].value])\n",
    "          k+=1\n",
    "        else:\n",
    "          k+=1\n",
    "      j+=1\n",
    "    i+=1\n",
    "  return p"
   ]
  },
  {
   "cell_type": "code",
   "execution_count": 100,
   "metadata": {
    "colab": {},
    "colab_type": "code",
    "id": "BkWo68aMTWA4"
   },
   "outputs": [
    {
     "name": "stdout",
     "output_type": "stream",
     "text": [
      "24 67 579 50 1990\n"
     ]
    }
   ],
   "source": [
    "# Reading output road variables as lists \n",
    "var_m_e_road = lst(mills, epa,'Road', product_catagories, model.x_m_e)\n",
    "var_e_s_road = lst(epa,syd,'Road',end_products,model.x_e_s)\n",
    "var_e_c = lst(epa,customers,'Road',end_products, model.x_e_c)\n",
    "var_s_s_road = lst(syd, syd,'Road', end_products, model.x_s_s)\n",
    "var_s_c = lst(syd,customers,'Road', end_products, model.x_s_c)\n",
    "print(len(var_m_e_road),len(var_e_s_road),len(var_e_c),len(var_s_s_road),\\\n",
    "      len(var_s_c))"
   ]
  },
  {
   "cell_type": "code",
   "execution_count": 101,
   "metadata": {
    "colab": {},
    "colab_type": "code",
    "id": "O95ExB91TWA-"
   },
   "outputs": [
    {
     "name": "stdout",
     "output_type": "stream",
     "text": [
      "39 300 0\n"
     ]
    }
   ],
   "source": [
    "# Reading output rail variables as lists \n",
    "var_m_e_rail = lst(mills, epa,'Rail', product_catagories, model.y_m_e)\n",
    "var_e_s_rail = lst(epa,syd,'Rail',end_products,model.y_e_s)\n",
    "var_s_s_rail = lst(syd, syd,'Rail', end_products, model.y_s_s)\n",
    "print(len(var_m_e_rail),len(var_e_s_rail),len(var_s_s_rail))"
   ]
  },
  {
   "cell_type": "code",
   "execution_count": 102,
   "metadata": {
    "colab": {},
    "colab_type": "code",
    "id": "ecTJuKbwTWBD"
   },
   "outputs": [
    {
     "name": "stdout",
     "output_type": "stream",
     "text": [
      "1 0 5 5\n"
     ]
    }
   ],
   "source": [
    "# Reading output coastal variables as lists \n",
    "var_e_po = lst(epa, disp_ports,'Coastal', end_products, model.z_e_po)\n",
    "var_s_po = lst(syd, disp_ports,'Coastal', end_products, model.z_s_po)\n",
    "var_po_po = lst(disp_ports, rec_ports,'Coastal',end_products, model.z_po_po)\n",
    "var_po_c = lst(rec_ports, customers,'Coastal', end_products, model.z_po_c)\n",
    "print(len(var_e_po),len(var_s_po),len(var_po_po),len(var_po_c))"
   ]
  },
  {
   "cell_type": "code",
   "execution_count": 103,
   "metadata": {
    "colab": {},
    "colab_type": "code",
    "id": "_iw181k1TWBN"
   },
   "outputs": [
    {
     "name": "stdout",
     "output_type": "stream",
     "text": [
      "76 76\n"
     ]
    }
   ],
   "source": [
    "# Reading output selection variables as lists \n",
    "var_e_select = list(['%s' %i, '%d' %model.p_e_select[i].value] for i in model.E)\n",
    "var_s_select = list(['%s' %i, '%d' %model.p_s_select[i].value] for i in model.S)\n",
    "print(len(var_e_select),len(var_s_select))"
   ]
  },
  {
   "cell_type": "markdown",
   "metadata": {
    "colab_type": "text",
    "id": "vVjfJbKSTWBR"
   },
   "source": [
    "##### Converting Lists into DataFrame and transferring to Excel"
   ]
  },
  {
   "cell_type": "code",
   "execution_count": 104,
   "metadata": {
    "colab": {},
    "colab_type": "code",
    "id": "VrT1zeP2TWBS"
   },
   "outputs": [],
   "source": [
    "# Creating Excel Output file\n",
    "book = opxl.load_workbook('Output.xlsx')\n",
    "writer = pd.ExcelWriter('Output.xlsx', engine='openpyxl') \n",
    "writer.book = book\n",
    "writer.sheets = dict((ws.title, ws) for ws in book.worksheets)\n",
    "writer.save()\n",
    "# Defining a function to covert lists to dataftame\n",
    "def to_df(list_of_lists):\n",
    "    x = pd.DataFrame(columns = ['From', 'To','Mode', 'Product', 'Quantity'])\n",
    "    for i in list_of_lists:\n",
    "        x = x.append(pd.DataFrame(i, columns = ['From', 'To','Mode', 'Product', 'Quantity']))\n",
    "    return x"
   ]
  },
  {
   "cell_type": "code",
   "execution_count": 105,
   "metadata": {
    "colab": {},
    "colab_type": "code",
    "id": "e0DxRlZ1TWBc"
   },
   "outputs": [],
   "source": [
    "# Combining all  transportation variables into DataFrame\n",
    "cust_variables = [var_e_c, var_s_c, var_po_c]\n",
    "cust_variables_df = to_df(cust_variables)\n",
    "cust_variables_df.to_excel(writer, sheet_name='Customer')\n",
    "writer.save()"
   ]
  },
  {
   "cell_type": "code",
   "execution_count": 106,
   "metadata": {},
   "outputs": [],
   "source": [
    "# Representing the customer demand met by the transportation model\n",
    "cust_variables_df.iloc[:,4] = cust_variables_df.iloc[:,4].astype(float)\n",
    "demand_met = pd.pivot_table(cust_variables_df,index=cust_variables_df['To'],\\\n",
    "                            columns=cust_variables_df['Product'],\\\n",
    "                           aggfunc=[np.sum],fill_value=0)\n",
    "demand_met.to_excel(writer, sheet_name='Demand_met')\n",
    "writer.save()"
   ]
  },
  {
   "cell_type": "code",
   "execution_count": 107,
   "metadata": {
    "colab": {},
    "colab_type": "code",
    "id": "mMvKIzlvTWBe"
   },
   "outputs": [],
   "source": [
    "# Combining all coastal output variables in dataframe\n",
    "coastal_var = [var_po_po]\n",
    "coast_var_df = to_df(coastal_var)\n",
    "coast_var_df.to_excel(writer, sheet_name='Coast')\n",
    "writer.save()"
   ]
  },
  {
   "cell_type": "code",
   "execution_count": 108,
   "metadata": {},
   "outputs": [],
   "source": [
    "# Combining all mills output variables in dataframe\n",
    "mills_epa = [var_m_e_road, var_m_e_rail]\n",
    "mills_epa_df = to_df(mills_epa)\n",
    "mills_epa_df.to_excel(writer, sheet_name='Mills')\n",
    "writer.save()"
   ]
  },
  {
   "cell_type": "code",
   "execution_count": 109,
   "metadata": {},
   "outputs": [],
   "source": [
    "# Combining all epa output variables in dataframe\n",
    "epa_syd = [var_e_s_road,var_e_s_rail, var_e_po]\n",
    "epa_syd_df = to_df(epa_syd)\n",
    "epa_syd_df.to_excel(writer, sheet_name='EPA')\n",
    "writer.save()"
   ]
  },
  {
   "cell_type": "code",
   "execution_count": 110,
   "metadata": {},
   "outputs": [],
   "source": [
    "# Combining all stockyard output variables in dataframe\n",
    "syd_syd = [var_s_s_road,var_s_s_rail,var_s_po]\n",
    "syd_syd_df = to_df(syd_syd)\n",
    "syd_syd_df.to_excel(writer, sheet_name='Stockyard')\n",
    "writer.save()"
   ]
  },
  {
   "cell_type": "code",
   "execution_count": null,
   "metadata": {
    "colab": {},
    "colab_type": "code",
    "id": "iLnD-kPjbFPx"
   },
   "outputs": [],
   "source": [
    "# Output value of total transportation cost\n",
    "model.transportation_cost=Param(initialize=\\\n",
    "(sum(model.rail_cost_m_e[i,j] * sum(model.y_m_e[i,j,k] for k in model.IM) for i in model.M for j in model.E)+\\\n",
    " sum(model.road_cost_m_e[i,j] * sum(model.x_m_e[i,j,k] for k in model.IM) for i in model.M for j in model.E)+\\\n",
    " sum(model.rail_cost_e_s[i,j] * sum(model.y_e_s[i,j,k] for k in model.I) for i in model.E for j in model.S) +\\\n",
    " sum(model.road_cost_e_s[i,j] * sum(model.x_e_s[i,j,k] for k in model.I) for i in model.E for j in model.S)+\\\n",
    " sum(model.rail_cost_s_s[i,j] * sum(model.y_s_s[i,j,k] for k in model.I)for i in model.S for j in model.S)+\\\n",
    " sum(model.road_cost_s_s[i,j] * sum(model.x_s_s[i,j,k] for k in model.I)for i in model.S for j in model.S)+\\\n",
    " sum(model.road_cost_e_c[i,j] * sum(model.x_e_c[i,j,k] for k in model.I) for i in model.E for j in model.C)+\\\n",
    " sum(model.road_cost_s_c[i,j] * sum(model.x_s_c[i,j,k] for k in model.I) for i in model.S for j in model.C)+\\\n",
    " sum(model.e_port_cost[i,j] * sum(model.z_e_po[i,j,k] for k in model.I) for i in model.E for j in model.PO_D)+\\\n",
    " sum(model.s_port_cost[i,j] * sum(model.z_s_po[i,j,k] for k in model.I) for i in model.S for j in model.PO_D)+\\\n",
    " sum(model.port_port_cost[i,j] * sum(model.z_po_po[i,j,k] for k in model.I)for i in model.PO_D for j in model.PO_R)+\\\n",
    " sum(model.port_cust_cost[i,j] * sum(model.z_po_c[i,j,k] for k in model.I)for i in model.PO_R for j in model.C)))\n",
    "trans_cost = ['Transportation Cost', model.transportation_cost.value]"
   ]
  },
  {
   "cell_type": "code",
   "execution_count": null,
   "metadata": {},
   "outputs": [],
   "source": [
    "# Output value of epa handling cost\n",
    "model.epa_handling_cost=Param(initialize=\\\n",
    "(sum(model.epa_hndlng_vc_rail[i] * (sum(model.y_e_s[i,s,k] for k in model.I for s in model.S))for i in model.E)+\\\n",
    " sum(model.epa_hndlng_fc_rail[i] * model.p_e_select[i] for i in model.E)+\\\n",
    " sum(model.epa_hndlng_vc_road[i] * (sum(model.x_e_c[i,c,k] for c in model.C for k in model.I) +\\\n",
    "                                 sum(model.z_e_po[i,j,k] for j in model.PO_D for k in model.I)+\\\n",
    "                                 sum(model.x_e_s[i,s,k] for s in model.S for k in model.I))for i in model.E)+\\\n",
    " sum(model.epa_hndlng_fc_road[i] * model.p_e_select[i] for i in model.E)+\\\n",
    " sum(model.epa_hndlng_vc_rail[i] * (sum(model.y_e_s[i,s,k] for k in model.I for s in model.S))for i in model.E)+\\\n",
    " sum(model.epa_hndlng_fc_rail[i] * model.p_e_select[i] for i in model.E)+\\\n",
    " sum(model.epa_hndlng_vc_road[i] * (sum(model.x_e_c[i,c,k] for c in model.C for k in model.I) +\\\n",
    "                                 sum(model.z_e_po[i,j,k] for j in model.PO_D for k in model.I)+\\\n",
    "                                 sum(model.x_e_s[i,s,k] for s in model.S for k in model.I))for i in model.E)+\\\n",
    " sum(model.epa_hndlng_fc_road[i] * model.p_e_select[i] for i in model.E)))\n",
    "epa_handling = ['EPA Handling Costs', model.epa_handling_cost.value]"
   ]
  },
  {
   "cell_type": "code",
   "execution_count": null,
   "metadata": {},
   "outputs": [],
   "source": [
    "# Output value of stockyard handling cost\n",
    "model.syd_handling_cost=Param(initialize=\\\n",
    "(sum(model.syd_hndlng_vc_rail[i] * (sum(model.y_e_s[e,i,k] for e in model.E for k in model.I)\\\n",
    "                                 + sum(model.y_s_s[s,i,k] for s in model.S for k in model.I)) for i in model.S)+\\\n",
    " sum(model.syd_hndlng_fc_rail[i] * model.p_s_select[i] for i in model.S)+\\\n",
    " sum(model.syd_hndlng_vc_road[i] * (sum(model.x_e_s[e,i,k] for e in model.E for k in model.I))for i in model.S)+\\\n",
    " sum(model.syd_hndlng_fc_road[i] * model.p_s_select[i] for i in model.S)+\\\n",
    " sum(model.syd_sldng_cost[i] * (sum(model.x_e_s[e,i,k] for e in model.E for k in model.I)+\\\n",
    "                             sum(model.y_e_s[e,i,k] for e in model.E for k in model.I))\\\n",
    "  for i in model.S)))\n",
    "syd_handling = ['Stockyard Handling Costs', model.syd_handling_cost.value]"
   ]
  },
  {
   "cell_type": "code",
   "execution_count": null,
   "metadata": {},
   "outputs": [],
   "source": [
    "# Output value of ports handling cost\n",
    "model.ports_handling_cost=Param(initialize=\\\n",
    "(sum(model.disp_port_hndlng_cost[i] * (sum(model.z_e_po[e,i,k] for e in model.E for k in model.I)+\\\n",
    "                                    sum(model.z_s_po[s,i,k] for s in model.S for k in model.I))\\\n",
    "  for i in model.PO_D)+\\\n",
    " sum(model.rec_port_hndlng_cost[i] * sum(model.z_po_c[i,c,k] for c in model.C for k in model.I) for i in model.PO_R)))\n",
    "port_handling = ['Ports Handling Costs', model.ports_handling_cost.value]"
   ]
  },
  {
   "cell_type": "code",
   "execution_count": null,
   "metadata": {},
   "outputs": [],
   "source": [
    "# Output value of product conversion cost\n",
    "model.product_conversion_cost=Param(initialize=\\\n",
    "(sum(model.epa_conversn_cost[i,k] * (sum(model.x_e_s[i,s,k] for s in model.S )+\\\n",
    "                                  sum(model.y_e_s[i,s,k] for s in model.S )+\\\n",
    "                                  sum(model.x_e_c[i,c,k] for c in model.C )+\\\n",
    "                                  sum(model.z_e_po[i,j,k] for j in model.PO_D ))\\\n",
    "  for i in model.E for k in model.I)))\n",
    "product_cnvrsn = ['Product Conversion Costs', model.product_conversion_cost.value]"
   ]
  },
  {
   "cell_type": "code",
   "execution_count": null,
   "metadata": {},
   "outputs": [],
   "source": [
    "# Percentage value of unmet demand\n",
    "model.unmet_demand_percent=Param(initialize=\\\n",
    "(sum((model.demand[i,k]-(((sum(model.x_s_c[s,i,k] for s in model.S)+\\\n",
    "                        sum(model.z_s_po[s,j,k]for s,j in zip(model.S,model.PO_D)))*\\\n",
    "                       model.sla_ship_flat[i])+\\\n",
    "                      ((sum(model.x_e_c[e,i,k] for e in model.E)+\\\n",
    "                        sum(model.z_e_po[e,j,k]for e,j in zip(model.E,model.PO_D)))*\\\n",
    "                       model.direct_ship_flat[i]))) for i,k in zip(model.C,model.I))/\\\n",
    " sum(model.demand[i,k]for i,k in zip(model.C,model.I)))*100)\n",
    "unmet_demand = ['Unmet Demand Percentage (%)', model.unmet_demand_percent.value]"
   ]
  },
  {
   "cell_type": "code",
   "execution_count": null,
   "metadata": {},
   "outputs": [],
   "source": [
    "# Combining all combining all the costs occured in transporation into dataframe\n",
    "costs = pd.DataFrame([trans_cost,epa_handling,syd_handling,product_cnvrsn,unmet_demand],\\\n",
    "                    columns = ['Parameter','Value'])\n",
    "costs.to_excel(writer, sheet_name='Costs')\n",
    "writer.save()"
   ]
  },
  {
   "cell_type": "code",
   "execution_count": null,
   "metadata": {},
   "outputs": [],
   "source": [
    "import folium as fp"
   ]
  },
  {
   "cell_type": "code",
   "execution_count": null,
   "metadata": {},
   "outputs": [],
   "source": []
  }
 ],
 "metadata": {
  "colab": {
   "name": "Untitled4.ipynb",
   "provenance": []
  },
  "kernelspec": {
   "display_name": "Python 3",
   "language": "python",
   "name": "python3"
  },
  "language_info": {
   "codemirror_mode": {
    "name": "ipython",
    "version": 3
   },
   "file_extension": ".py",
   "mimetype": "text/x-python",
   "name": "python",
   "nbconvert_exporter": "python",
   "pygments_lexer": "ipython3",
   "version": "3.7.6"
  }
 },
 "nbformat": 4,
 "nbformat_minor": 4
}
